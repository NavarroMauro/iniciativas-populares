{
 "cells": [
  {
   "cell_type": "code",
   "execution_count": 27,
   "metadata": {
    "gradient": {
     "editing": false,
     "id": "f44d8c37-04e1-4d58-b5e0-939119b55a49",
     "kernelId": ""
    },
    "id": "rJpvpqMp3sfx"
   },
   "outputs": [],
   "source": [
    "# import requests\n",
    "from urllib.request import urlopen\n",
    "import time\n",
    "from bs4 import BeautifulSoup\n",
    "import pandas as pd"
   ]
  },
  {
   "cell_type": "code",
   "execution_count": 28,
   "metadata": {
    "colab": {
     "base_uri": "https://localhost:8080/"
    },
    "gradient": {
     "editing": false,
     "id": "b1a6a084-3c20-4fa3-9c47-04aa03a922ad",
     "kernelId": ""
    },
    "id": "7BjPnvG8RMrf",
    "outputId": "74ad3088-3bca-4573-9d26-f16d06262851"
   },
   "outputs": [
    {
     "name": "stdout",
     "output_type": "stream",
     "text": [
      "<http.client.HTTPResponse object at 0x7f30febcebb0>\n"
     ]
    }
   ],
   "source": [
    "url = 'https://iniciativas.chileconvencion.cl/m/iniciativa_popular/'\n",
    "html = urlopen(url)\n",
    "\n",
    "if html.status != 200:\n",
    "    print(\"Error fetching page\")\n",
    "    exit()\n",
    "else:\n",
    "    content = html\n",
    "print(content)"
   ]
  },
  {
   "cell_type": "code",
   "execution_count": 29,
   "metadata": {
    "colab": {
     "base_uri": "https://localhost:8080/"
    },
    "gradient": {
     "editing": false,
     "id": "2c599349-a1be-4c6d-a53f-ce9386879503",
     "kernelId": ""
    },
    "id": "_hTqwKXx9EQK",
    "outputId": "665304f6-96f7-41f4-aefa-f741c7243958"
   },
   "outputs": [
    {
     "name": "stderr",
     "output_type": "stream",
     "text": [
      "IOPub data rate exceeded.\n",
      "The notebook server will temporarily stop sending output\n",
      "to the client in order to avoid crashing it.\n",
      "To change this limit, set the config variable\n",
      "`--NotebookApp.iopub_data_rate_limit`.\n",
      "\n",
      "Current values:\n",
      "NotebookApp.iopub_data_rate_limit=1000000.0 (bytes/sec)\n",
      "NotebookApp.rate_limit_window=3.0 (secs)\n",
      "\n"
     ]
    },
    {
     "data": {
      "text/plain": [
       "83307"
      ]
     },
     "execution_count": 29,
     "metadata": {},
     "output_type": "execute_result"
    }
   ],
   "source": [
    "soup = BeautifulSoup(html,\"html.parser\")\n",
    "type(soup)\n",
    "print(soup.prettify())\n",
    "len(list(soup.descendants))"
   ]
  },
  {
   "cell_type": "code",
   "execution_count": 30,
   "metadata": {
    "colab": {
     "base_uri": "https://localhost:8080/"
    },
    "gradient": {
     "editing": false,
     "id": "9a9c7228-c9fc-41ed-83be-187294246c70",
     "kernelId": ""
    },
    "id": "_iZSu47uZFfB",
    "outputId": "106874b2-29ac-4cc5-d5a3-1bc1568d7fe2"
   },
   "outputs": [
    {
     "name": "stdout",
     "output_type": "stream",
     "text": [
      "2495\n",
      "['Propuesta nº 71002', 'Propuesta nº 75690', 'Propuesta nº 52642', 'Propuesta nº 11542', 'Propuesta nº 73970', 'Propuesta nº 56170', 'Propuesta nº 64102', 'Propuesta nº 59582', 'Propuesta nº 75830', 'Propuesta nº 73766', 'Propuesta nº 586', 'Propuesta nº 53070', 'Propuesta nº 53782', 'Propuesta nº 53130', 'Propuesta nº 42034', 'Propuesta nº 52946', 'Propuesta nº 15174', 'Propuesta nº 49942', 'Propuesta nº 73994', 'Propuesta nº 66450', 'Propuesta nº 71522', 'Propuesta nº 65082', 'Propuesta nº 33314', 'Propuesta nº 60670', 'Propuesta nº 28646', 'Propuesta nº 35854', 'Propuesta nº 49206', 'Propuesta nº 36190', 'Propuesta nº 56694', 'Propuesta nº 47066', 'Propuesta nº 12102', 'Propuesta nº 62494', 'Propuesta nº 52118', 'Propuesta nº 49734', 'Propuesta nº 47918', 'Propuesta nº 1530', 'Propuesta nº 70434', 'Propuesta nº 41142', 'Propuesta nº 15138', 'Propuesta nº 48842', 'Propuesta nº 37338', 'Propuesta nº 14882', 'Propuesta nº 67930', 'Propuesta nº 69378', 'Propuesta nº 65978', 'Propuesta nº 68674', 'Propuesta nº 20130', 'Propuesta nº 72634', 'Propuesta nº 42670', 'Propuesta nº 21726', 'Propuesta nº 44762', 'Propuesta nº 38346', 'Propuesta nº 45486', 'Propuesta nº 5426', 'Propuesta nº 5106', 'Propuesta nº 75642', 'Propuesta nº 69950', 'Propuesta nº 69830', 'Propuesta nº 41450', 'Propuesta nº 60930', 'Propuesta nº 61226', 'Propuesta nº 59098', 'Propuesta nº 76014', 'Propuesta nº 74842', 'Propuesta nº 49502', 'Propuesta nº 75042', 'Propuesta nº 76770', 'Propuesta nº 76426', 'Propuesta nº 76826', 'Propuesta nº 74730', 'Propuesta nº 76570', 'Propuesta nº 76534', 'Propuesta nº 76946', 'Propuesta nº 75230', 'Propuesta nº 76486', 'Propuesta nº 64598', 'Propuesta nº 76282', 'Propuesta nº 76870', 'Propuesta nº 74946', 'Propuesta nº 76262', 'Propuesta nº 75342', 'Propuesta nº 76754', 'Propuesta nº 75214', 'Propuesta nº 76562', 'Propuesta nº 76542', 'Propuesta nº 76434', 'Propuesta nº 74034', 'Propuesta nº 76322', 'Propuesta nº 62642', 'Propuesta nº 76038', 'Propuesta nº 49466', 'Propuesta nº 49610', 'Propuesta nº 75330', 'Propuesta nº 8266', 'Propuesta nº 76758', 'Propuesta nº 76110', 'Propuesta nº 76450', 'Propuesta nº 76650', 'Propuesta nº 60686', 'Propuesta nº 76514', 'Propuesta nº 76582', 'Propuesta nº 75810', 'Propuesta nº 52982', 'Propuesta nº 76538', 'Propuesta nº 76326', 'Propuesta nº 76190', 'Propuesta nº 76274', 'Propuesta nº 75178', 'Propuesta nº 76062', 'Propuesta nº 75766', 'Propuesta nº 76466', 'Propuesta nº 76170', 'Propuesta nº 75954', 'Propuesta nº 74310', 'Propuesta nº 75798', 'Propuesta nº 74154', 'Propuesta nº 71478', 'Propuesta nº 75346', 'Propuesta nº 75842', 'Propuesta nº 74226', 'Propuesta nº 75806', 'Propuesta nº 75098', 'Propuesta nº 74978', 'Propuesta nº 74402', 'Propuesta nº 75526', 'Propuesta nº 75758', 'Propuesta nº 74662', 'Propuesta nº 75026', 'Propuesta nº 73762', 'Propuesta nº 71418', 'Propuesta nº 73494', 'Propuesta nº 75594', 'Propuesta nº 17986', 'Propuesta nº 73054', 'Propuesta nº 75150', 'Propuesta nº 74542', 'Propuesta nº 75174', 'Propuesta nº 75322', 'Propuesta nº 74922', 'Propuesta nº 74306', 'Propuesta nº 75338', 'Propuesta nº 75018', 'Propuesta nº 74910', 'Propuesta nº 75054', 'Propuesta nº 75038', 'Propuesta nº 74246', 'Propuesta nº 75090', 'Propuesta nº 74734', 'Propuesta nº 74374', 'Propuesta nº 74766', 'Propuesta nº 74446', 'Propuesta nº 74090', 'Propuesta nº 74686', 'Propuesta nº 74058', 'Propuesta nº 74474', 'Propuesta nº 20554', 'Propuesta nº 70794', 'Propuesta nº 50254', 'Propuesta nº 73882', 'Propuesta nº 73606', 'Propuesta nº 71902', 'Propuesta nº 72158', 'Propuesta nº 73830', 'Propuesta nº 67918', 'Propuesta nº 72974', 'Propuesta nº 73410', 'Propuesta nº 73510', 'Propuesta nº 72470', 'Propuesta nº 15510', 'Propuesta nº 73154', 'Propuesta nº 73486', 'Propuesta nº 73482', 'Propuesta nº 73302', 'Propuesta nº 73354', 'Propuesta nº 68134', 'Propuesta nº 72486', 'Propuesta nº 72570', 'Propuesta nº 72330', 'Propuesta nº 72426', 'Propuesta nº 72422', 'Propuesta nº 72370', 'Propuesta nº 73682', 'Propuesta nº 71890', 'Propuesta nº 39518', 'Propuesta nº 74102', 'Propuesta nº 73878', 'Propuesta nº 73522', 'Propuesta nº 74062', 'Propuesta nº 73946', 'Propuesta nº 71998', 'Propuesta nº 73750', 'Propuesta nº 73838', 'Propuesta nº 71154', 'Propuesta nº 73630', 'Propuesta nº 73138', 'Propuesta nº 73330', 'Propuesta nº 67462', 'Propuesta nº 73670', 'Propuesta nº 71770', 'Propuesta nº 70642', 'Propuesta nº 73274', 'Propuesta nº 71590', 'Propuesta nº 73654', 'Propuesta nº 73586', 'Propuesta nº 71542', 'Propuesta nº 73242', 'Propuesta nº 72390', 'Propuesta nº 73038', 'Propuesta nº 71298', 'Propuesta nº 72814', 'Propuesta nº 72986', 'Propuesta nº 72878', 'Propuesta nº 72678', 'Propuesta nº 72822', 'Propuesta nº 72406', 'Propuesta nº 72482', 'Propuesta nº 72458', 'Propuesta nº 71442', 'Propuesta nº 72446', 'Propuesta nº 72666', 'Propuesta nº 72526', 'Propuesta nº 61734', 'Propuesta nº 72090', 'Propuesta nº 71558', 'Propuesta nº 8922', 'Propuesta nº 71990', 'Propuesta nº 72358', 'Propuesta nº 70874', 'Propuesta nº 65414', 'Propuesta nº 72122', 'Propuesta nº 71746', 'Propuesta nº 72230', 'Propuesta nº 71638', 'Propuesta nº 71898', 'Propuesta nº 71750', 'Propuesta nº 5706', 'Propuesta nº 71334', 'Propuesta nº 71370', 'Propuesta nº 71846', 'Propuesta nº 72054', 'Propuesta nº 68938', 'Propuesta nº 71658', 'Propuesta nº 71526', 'Propuesta nº 73074', 'Propuesta nº 73982', 'Propuesta nº 70914', 'Propuesta nº 69226', 'Propuesta nº 73478', 'Propuesta nº 71642', 'Propuesta nº 74378', 'Propuesta nº 73322', 'Propuesta nº 9062', 'Propuesta nº 70062', 'Propuesta nº 71382', 'Propuesta nº 74338', 'Propuesta nº 21610', 'Propuesta nº 72442', 'Propuesta nº 72114', 'Propuesta nº 17730', 'Propuesta nº 74366', 'Propuesta nº 71338', 'Propuesta nº 72034', 'Propuesta nº 70646', 'Propuesta nº 69714', 'Propuesta nº 73854', 'Propuesta nº 72622', 'Propuesta nº 70978', 'Propuesta nº 54662', 'Propuesta nº 70998', 'Propuesta nº 73078', 'Propuesta nº 74046', 'Propuesta nº 73370', 'Propuesta nº 73990', 'Propuesta nº 72902', 'Propuesta nº 69486', 'Propuesta nº 72910', 'Propuesta nº 73326', 'Propuesta nº 73018', 'Propuesta nº 47882', 'Propuesta nº 34750', 'Propuesta nº 48446', 'Propuesta nº 44526', 'Propuesta nº 46146', 'Propuesta nº 45894', 'Propuesta nº 45730', 'Propuesta nº 45614', 'Propuesta nº 46314', 'Propuesta nº 46270', 'Propuesta nº 46254', 'Propuesta nº 46222', 'Propuesta nº 46182', 'Propuesta nº 46326', 'Propuesta nº 43310', 'Propuesta nº 67358', 'Propuesta nº 33406', 'Propuesta nº 23830', 'Propuesta nº 23094', 'Propuesta nº 22662', 'Propuesta nº 20054', 'Propuesta nº 20058', 'Propuesta nº 7634', 'Propuesta nº 19466', 'Propuesta nº 6770', 'Propuesta nº 13590', 'Propuesta nº 16162', 'Propuesta nº 16574', 'Propuesta nº 16594', 'Propuesta nº 70146', 'Propuesta nº 69742', 'Propuesta nº 69658', 'Propuesta nº 69490', 'Propuesta nº 70274', 'Propuesta nº 69694', 'Propuesta nº 70582', 'Propuesta nº 69986', 'Propuesta nº 70478', 'Propuesta nº 70670', 'Propuesta nº 70402', 'Propuesta nº 65482', 'Propuesta nº 70358', 'Propuesta nº 70490', 'Propuesta nº 70350', 'Propuesta nº 70134', 'Propuesta nº 70378', 'Propuesta nº 70254', 'Propuesta nº 69550', 'Propuesta nº 70518', 'Propuesta nº 70094', 'Propuesta nº 43574', 'Propuesta nº 35122', 'Propuesta nº 70022', 'Propuesta nº 2022', 'Propuesta nº 70738', 'Propuesta nº 70854', 'Propuesta nº 67490', 'Propuesta nº 70878', 'Propuesta nº 64094', 'Propuesta nº 67298', 'Propuesta nº 71122', 'Propuesta nº 70810', 'Propuesta nº 70870', 'Propuesta nº 69854', 'Propuesta nº 70858', 'Propuesta nº 71190', 'Propuesta nº 47218', 'Propuesta nº 51794', 'Propuesta nº 51654', 'Propuesta nº 68006', 'Propuesta nº 49782', 'Propuesta nº 47658', 'Propuesta nº 67946', 'Propuesta nº 68010', 'Propuesta nº 47442', 'Propuesta nº 47390', 'Propuesta nº 67902', 'Propuesta nº 67710', 'Propuesta nº 67466', 'Propuesta nº 67882', 'Propuesta nº 44086', 'Propuesta nº 62206', 'Propuesta nº 68082', 'Propuesta nº 29006', 'Propuesta nº 67030', 'Propuesta nº 67530', 'Propuesta nº 68178', 'Propuesta nº 68174', 'Propuesta nº 28734', 'Propuesta nº 24510', 'Propuesta nº 38470', 'Propuesta nº 67486', 'Propuesta nº 30962', 'Propuesta nº 68274', 'Propuesta nº 68182', 'Propuesta nº 10826', 'Propuesta nº 68326', 'Propuesta nº 67162', 'Propuesta nº 67174', 'Propuesta nº 68246', 'Propuesta nº 68906', 'Propuesta nº 69698', 'Propuesta nº 69010', 'Propuesta nº 66298', 'Propuesta nº 68330', 'Propuesta nº 68918', 'Propuesta nº 69702', 'Propuesta nº 21742', 'Propuesta nº 66294', 'Propuesta nº 24454', 'Propuesta nº 68714', 'Propuesta nº 69530', 'Propuesta nº 69502', 'Propuesta nº 68566', 'Propuesta nº 58310', 'Propuesta nº 68654', 'Propuesta nº 69274', 'Propuesta nº 69614', 'Propuesta nº 69390', 'Propuesta nº 65630', 'Propuesta nº 69386', 'Propuesta nº 69418', 'Propuesta nº 69026', 'Propuesta nº 69590', 'Propuesta nº 68190', 'Propuesta nº 69458', 'Propuesta nº 69382', 'Propuesta nº 68966', 'Propuesta nº 69354', 'Propuesta nº 69798', 'Propuesta nº 69422', 'Propuesta nº 69686', 'Propuesta nº 66998', 'Propuesta nº 68374', 'Propuesta nº 69250', 'Propuesta nº 68546', 'Propuesta nº 50930', 'Propuesta nº 68014', 'Propuesta nº 38794', 'Propuesta nº 69262', 'Propuesta nº 68394', 'Propuesta nº 68426', 'Propuesta nº 66922', 'Propuesta nº 68770', 'Propuesta nº 66254', 'Propuesta nº 61310', 'Propuesta nº 68854', 'Propuesta nº 68354', 'Propuesta nº 68334', 'Propuesta nº 52578', 'Propuesta nº 57558', 'Propuesta nº 67186', 'Propuesta nº 65594', 'Propuesta nº 64642', 'Propuesta nº 66926', 'Propuesta nº 66994', 'Propuesta nº 66982', 'Propuesta nº 65386', 'Propuesta nº 66950', 'Propuesta nº 64486', 'Propuesta nº 66918', 'Propuesta nº 66986', 'Propuesta nº 66814', 'Propuesta nº 67342', 'Propuesta nº 66674', 'Propuesta nº 66558', 'Propuesta nº 66594', 'Propuesta nº 66566', 'Propuesta nº 66562', 'Propuesta nº 66110', 'Propuesta nº 66498', 'Propuesta nº 66514', 'Propuesta nº 66246', 'Propuesta nº 65734', 'Propuesta nº 63378', 'Propuesta nº 61890', 'Propuesta nº 66550', 'Propuesta nº 66554', 'Propuesta nº 65030', 'Propuesta nº 65074', 'Propuesta nº 63586', 'Propuesta nº 64930', 'Propuesta nº 66222', 'Propuesta nº 61362', 'Propuesta nº 64942', 'Propuesta nº 66190', 'Propuesta nº 64986', 'Propuesta nº 66218', 'Propuesta nº 64794', 'Propuesta nº 64946', 'Propuesta nº 66046', 'Propuesta nº 64698', 'Propuesta nº 64926', 'Propuesta nº 64746', 'Propuesta nº 66066', 'Propuesta nº 66042', 'Propuesta nº 64198', 'Propuesta nº 66086', 'Propuesta nº 65830', 'Propuesta nº 51638', 'Propuesta nº 65750', 'Propuesta nº 64606', 'Propuesta nº 61994', 'Propuesta nº 64646', 'Propuesta nº 64078', 'Propuesta nº 64630', 'Propuesta nº 64422', 'Propuesta nº 64550', 'Propuesta nº 49914', 'Propuesta nº 63386', 'Propuesta nº 64482', 'Propuesta nº 55626', 'Propuesta nº 60798', 'Propuesta nº 65810', 'Propuesta nº 53550', 'Propuesta nº 65694', 'Propuesta nº 65762', 'Propuesta nº 50066', 'Propuesta nº 64034', 'Propuesta nº 53274', 'Propuesta nº 57150', 'Propuesta nº 65614', 'Propuesta nº 65622', 'Propuesta nº 65558', 'Propuesta nº 50894', 'Propuesta nº 65530', 'Propuesta nº 50846', 'Propuesta nº 65350', 'Propuesta nº 43238', 'Propuesta nº 65454', 'Propuesta nº 47430', 'Propuesta nº 64354', 'Propuesta nº 65430', 'Propuesta nº 58038', 'Propuesta nº 65362', 'Propuesta nº 65098', 'Propuesta nº 65226', 'Propuesta nº 65314', 'Propuesta nº 65290', 'Propuesta nº 65178', 'Propuesta nº 65186', 'Propuesta nº 65210', 'Propuesta nº 59738', 'Propuesta nº 65106', 'Propuesta nº 27806', 'Propuesta nº 26666', 'Propuesta nº 32366', 'Propuesta nº 39818', 'Propuesta nº 5966', 'Propuesta nº 622', 'Propuesta nº 36958', 'Propuesta nº 37334', 'Propuesta nº 37202', 'Propuesta nº 15478', 'Propuesta nº 41722', 'Propuesta nº 43522', 'Propuesta nº 40282', 'Propuesta nº 44366', 'Propuesta nº 46926', 'Propuesta nº 45334', 'Propuesta nº 42446', 'Propuesta nº 40146', 'Propuesta nº 62286', 'Propuesta nº 61990', 'Propuesta nº 50138', 'Propuesta nº 53830', 'Propuesta nº 41070', 'Propuesta nº 53322', 'Propuesta nº 9290', 'Propuesta nº 45134', 'Propuesta nº 43998', 'Propuesta nº 42646', 'Propuesta nº 42402', 'Propuesta nº 54574', 'Propuesta nº 40494', 'Propuesta nº 62886', 'Propuesta nº 64434', 'Propuesta nº 3202', 'Propuesta nº 64262', 'Propuesta nº 64342', 'Propuesta nº 64174', 'Propuesta nº 64074', 'Propuesta nº 23646', 'Propuesta nº 63978', 'Propuesta nº 10686', 'Propuesta nº 44170', 'Propuesta nº 44126', 'Propuesta nº 44158', 'Propuesta nº 63314', 'Propuesta nº 63414', 'Propuesta nº 63450', 'Propuesta nº 62650', 'Propuesta nº 22998', 'Propuesta nº 63078', 'Propuesta nº 63298', 'Propuesta nº 63258', 'Propuesta nº 62902', 'Propuesta nº 50462', 'Propuesta nº 63202', 'Propuesta nº 44046', 'Propuesta nº 48470', 'Propuesta nº 47814', 'Propuesta nº 46782', 'Propuesta nº 61466', 'Propuesta nº 62878', 'Propuesta nº 62922', 'Propuesta nº 62934', 'Propuesta nº 63222', 'Propuesta nº 62862', 'Propuesta nº 61922', 'Propuesta nº 7294', 'Propuesta nº 63286', 'Propuesta nº 62742', 'Propuesta nº 34678', 'Propuesta nº 62646', 'Propuesta nº 58854', 'Propuesta nº 63606', 'Propuesta nº 59778', 'Propuesta nº 42622', 'Propuesta nº 19030', 'Propuesta nº 62030', 'Propuesta nº 23566', 'Propuesta nº 43830', 'Propuesta nº 62470', 'Propuesta nº 30302', 'Propuesta nº 51878', 'Propuesta nº 63794', 'Propuesta nº 62334', 'Propuesta nº 63802', 'Propuesta nº 63730', 'Propuesta nº 62414', 'Propuesta nº 62174', 'Propuesta nº 62398', 'Propuesta nº 62274', 'Propuesta nº 63890', 'Propuesta nº 50630', 'Propuesta nº 62302', 'Propuesta nº 62306', 'Propuesta nº 63894', 'Propuesta nº 62294', 'Propuesta nº 15454', 'Propuesta nº 51906', 'Propuesta nº 15210', 'Propuesta nº 42758', 'Propuesta nº 41626', 'Propuesta nº 17230', 'Propuesta nº 54310', 'Propuesta nº 52514', 'Propuesta nº 44090', 'Propuesta nº 37386', 'Propuesta nº 7226', 'Propuesta nº 43538', 'Propuesta nº 20458', 'Propuesta nº 27098', 'Propuesta nº 24518', 'Propuesta nº 30026', 'Propuesta nº 28902', 'Propuesta nº 28890', 'Propuesta nº 27610', 'Propuesta nº 28474', 'Propuesta nº 16806', 'Propuesta nº 16694', 'Propuesta nº 39558', 'Propuesta nº 15922', 'Propuesta nº 44190', 'Propuesta nº 21838', 'Propuesta nº 3506', 'Propuesta nº 57990', 'Propuesta nº 51078', 'Propuesta nº 40778', 'Propuesta nº 34666', 'Propuesta nº 40846', 'Propuesta nº 19970', 'Propuesta nº 37770', 'Propuesta nº 40850', 'Propuesta nº 20914', 'Propuesta nº 40830', 'Propuesta nº 10242', 'Propuesta nº 40246', 'Propuesta nº 40562', 'Propuesta nº 38482', 'Propuesta nº 40542', 'Propuesta nº 41446', 'Propuesta nº 33630', 'Propuesta nº 40234', 'Propuesta nº 40142', 'Propuesta nº 38210', 'Propuesta nº 39870', 'Propuesta nº 38866', 'Propuesta nº 38590', 'Propuesta nº 38758', 'Propuesta nº 38630', 'Propuesta nº 38434', 'Propuesta nº 61766', 'Propuesta nº 62186', 'Propuesta nº 62090', 'Propuesta nº 61898', 'Propuesta nº 50802', 'Propuesta nº 62086', 'Propuesta nº 62106', 'Propuesta nº 61998', 'Propuesta nº 41030', 'Propuesta nº 1458', 'Propuesta nº 20474', 'Propuesta nº 60898', 'Propuesta nº 60674', 'Propuesta nº 61506', 'Propuesta nº 2994', 'Propuesta nº 60814', 'Propuesta nº 61574', 'Propuesta nº 61690', 'Propuesta nº 61410', 'Propuesta nº 61334', 'Propuesta nº 61626', 'Propuesta nº 61378', 'Propuesta nº 61782', 'Propuesta nº 61246', 'Propuesta nº 41122', 'Propuesta nº 23798', 'Propuesta nº 61146', 'Propuesta nº 61086', 'Propuesta nº 61094', 'Propuesta nº 61842', 'Propuesta nº 61678', 'Propuesta nº 56734', 'Propuesta nº 47266', 'Propuesta nº 56766', 'Propuesta nº 56886', 'Propuesta nº 56902', 'Propuesta nº 56742', 'Propuesta nº 56806', 'Propuesta nº 45250', 'Propuesta nº 56750', 'Propuesta nº 56622', 'Propuesta nº 56518', 'Propuesta nº 56358', 'Propuesta nº 56422', 'Propuesta nº 47478', 'Propuesta nº 56110', 'Propuesta nº 60382', 'Propuesta nº 60198', 'Propuesta nº 59358', 'Propuesta nº 58962', 'Propuesta nº 58518', 'Propuesta nº 58474', 'Propuesta nº 1854', 'Propuesta nº 55990', 'Propuesta nº 54674', 'Propuesta nº 46698', 'Propuesta nº 46522', 'Propuesta nº 27226', 'Propuesta nº 43126', 'Propuesta nº 40006', 'Propuesta nº 59670', 'Propuesta nº 59634', 'Propuesta nº 59646', 'Propuesta nº 59594', 'Propuesta nº 59734', 'Propuesta nº 59942', 'Propuesta nº 59970', 'Propuesta nº 59750', 'Propuesta nº 59690', 'Propuesta nº 51118', 'Propuesta nº 12378', 'Propuesta nº 60046', 'Propuesta nº 60114', 'Propuesta nº 55734', 'Propuesta nº 59930', 'Propuesta nº 59946', 'Propuesta nº 60130', 'Propuesta nº 902', 'Propuesta nº 60118', 'Propuesta nº 60518', 'Propuesta nº 60150', 'Propuesta nº 60214', 'Propuesta nº 60526', 'Propuesta nº 60754', 'Propuesta nº 60690', 'Propuesta nº 60598', 'Propuesta nº 60678', 'Propuesta nº 60734', 'Propuesta nº 60790', 'Propuesta nº 60770', 'Propuesta nº 60794', 'Propuesta nº 60494', 'Propuesta nº 60706', 'Propuesta nº 60650', 'Propuesta nº 58314', 'Propuesta nº 58242', 'Propuesta nº 39570', 'Propuesta nº 48582', 'Propuesta nº 57190', 'Propuesta nº 19998', 'Propuesta nº 50858', 'Propuesta nº 15518', 'Propuesta nº 59466', 'Propuesta nº 59574', 'Propuesta nº 59018', 'Propuesta nº 57838', 'Propuesta nº 58934', 'Propuesta nº 56106', 'Propuesta nº 59450', 'Propuesta nº 59338', 'Propuesta nº 59470', 'Propuesta nº 42746', 'Propuesta nº 50598', 'Propuesta nº 56262', 'Propuesta nº 58966', 'Propuesta nº 58902', 'Propuesta nº 59370', 'Propuesta nº 59418', 'Propuesta nº 58946', 'Propuesta nº 58710', 'Propuesta nº 59330', 'Propuesta nº 58810', 'Propuesta nº 54186', 'Propuesta nº 59230', 'Propuesta nº 57158', 'Propuesta nº 59118', 'Propuesta nº 59166', 'Propuesta nº 59046', 'Propuesta nº 59282', 'Propuesta nº 58826', 'Propuesta nº 57078', 'Propuesta nº 58654', 'Propuesta nº 58838', 'Propuesta nº 58330', 'Propuesta nº 58546', 'Propuesta nº 58610', 'Propuesta nº 57970', 'Propuesta nº 40150', 'Propuesta nº 58402', 'Propuesta nº 41462', 'Propuesta nº 46102', 'Propuesta nº 47230', 'Propuesta nº 58358', 'Propuesta nº 58146', 'Propuesta nº 22934', 'Propuesta nº 57134', 'Propuesta nº 55914', 'Propuesta nº 57122', 'Propuesta nº 57650', 'Propuesta nº 18490', 'Propuesta nº 57698', 'Propuesta nº 51714', 'Propuesta nº 57842', 'Propuesta nº 57402', 'Propuesta nº 57942', 'Propuesta nº 57370', 'Propuesta nº 56870', 'Propuesta nº 58026', 'Propuesta nº 57434', 'Propuesta nº 57318', 'Propuesta nº 45702', 'Propuesta nº 57314', 'Propuesta nº 57350', 'Propuesta nº 58142', 'Propuesta nº 58118', 'Propuesta nº 41510', 'Propuesta nº 58278', 'Propuesta nº 58346', 'Propuesta nº 57446', 'Propuesta nº 58370', 'Propuesta nº 57106', 'Propuesta nº 57154', 'Propuesta nº 57050', 'Propuesta nº 56914', 'Propuesta nº 57070', 'Propuesta nº 57018', 'Propuesta nº 48710', 'Propuesta nº 55174', 'Propuesta nº 55266', 'Propuesta nº 50434', 'Propuesta nº 54862', 'Propuesta nº 5478', 'Propuesta nº 52454', 'Propuesta nº 55222', 'Propuesta nº 48418', 'Propuesta nº 54746', 'Propuesta nº 41306', 'Propuesta nº 55394', 'Propuesta nº 55246', 'Propuesta nº 55402', 'Propuesta nº 55154', 'Propuesta nº 55166', 'Propuesta nº 55474', 'Propuesta nº 55046', 'Propuesta nº 55014', 'Propuesta nº 54946', 'Propuesta nº 55574', 'Propuesta nº 54994', 'Propuesta nº 55594', 'Propuesta nº 54914', 'Propuesta nº 55682', 'Propuesta nº 15418', 'Propuesta nº 48338', 'Propuesta nº 54886', 'Propuesta nº 54666', 'Propuesta nº 54850', 'Propuesta nº 55806', 'Propuesta nº 12614', 'Propuesta nº 18690', 'Propuesta nº 21374', 'Propuesta nº 52294', 'Propuesta nº 52214', 'Propuesta nº 47678', 'Propuesta nº 47270', 'Propuesta nº 53818', 'Propuesta nº 53506', 'Propuesta nº 54194', 'Propuesta nº 18990', 'Propuesta nº 55950', 'Propuesta nº 18210', 'Propuesta nº 16722', 'Propuesta nº 16286', 'Propuesta nº 15762', 'Propuesta nº 15850', 'Propuesta nº 15494', 'Propuesta nº 54970', 'Propuesta nº 48238', 'Propuesta nº 54726', 'Propuesta nº 54690', 'Propuesta nº 52258', 'Propuesta nº 54298', 'Propuesta nº 46646', 'Propuesta nº 3790', 'Propuesta nº 46738', 'Propuesta nº 46622', 'Propuesta nº 46582', 'Propuesta nº 1786', 'Propuesta nº 46486', 'Propuesta nº 15558', 'Propuesta nº 15566', 'Propuesta nº 46474', 'Propuesta nº 46422', 'Propuesta nº 46122', 'Propuesta nº 14478', 'Propuesta nº 14258', 'Propuesta nº 13122', 'Propuesta nº 12622', 'Propuesta nº 11586', 'Propuesta nº 11294', 'Propuesta nº 11142', 'Propuesta nº 11062', 'Propuesta nº 52730', 'Propuesta nº 47402', 'Propuesta nº 54566', 'Propuesta nº 54346', 'Propuesta nº 54262', 'Propuesta nº 39062', 'Propuesta nº 53558', 'Propuesta nº 53606', 'Propuesta nº 53254', 'Propuesta nº 53794', 'Propuesta nº 53658', 'Propuesta nº 51282', 'Propuesta nº 29682', 'Propuesta nº 53442', 'Propuesta nº 53346', 'Propuesta nº 53418', 'Propuesta nº 53282', 'Propuesta nº 53386', 'Propuesta nº 53266', 'Propuesta nº 53310', 'Propuesta nº 53238', 'Propuesta nº 53162', 'Propuesta nº 53206', 'Propuesta nº 53222', 'Propuesta nº 53134', 'Propuesta nº 53170', 'Propuesta nº 53082', 'Propuesta nº 53038', 'Propuesta nº 52934', 'Propuesta nº 52782', 'Propuesta nº 52870', 'Propuesta nº 52802', 'Propuesta nº 52418', 'Propuesta nº 47446', 'Propuesta nº 52386', 'Propuesta nº 52634', 'Propuesta nº 47950', 'Propuesta nº 52518', 'Propuesta nº 52394', 'Propuesta nº 52290', 'Propuesta nº 52374', 'Propuesta nº 52266', 'Propuesta nº 45270', 'Propuesta nº 52106', 'Propuesta nº 47398', 'Propuesta nº 45598', 'Propuesta nº 51730', 'Propuesta nº 48546', 'Propuesta nº 48518', 'Propuesta nº 45298', 'Propuesta nº 45182', 'Propuesta nº 28078', 'Propuesta nº 5958', 'Propuesta nº 5862', 'Propuesta nº 5882', 'Propuesta nº 53986', 'Propuesta nº 53598', 'Propuesta nº 54026', 'Propuesta nº 53886', 'Propuesta nº 53746', 'Propuesta nº 50506', 'Propuesta nº 50478', 'Propuesta nº 35594', 'Propuesta nº 50422', 'Propuesta nº 50390', 'Propuesta nº 50286', 'Propuesta nº 50314', 'Propuesta nº 51618', 'Propuesta nº 51270', 'Propuesta nº 51510', 'Propuesta nº 50346', 'Propuesta nº 50754', 'Propuesta nº 51330', 'Propuesta nº 50374', 'Propuesta nº 51418', 'Propuesta nº 51354', 'Propuesta nº 51326', 'Propuesta nº 51154', 'Propuesta nº 51242', 'Propuesta nº 50686', 'Propuesta nº 51318', 'Propuesta nº 51194', 'Propuesta nº 51138', 'Propuesta nº 51162', 'Propuesta nº 51106', 'Propuesta nº 51002', 'Propuesta nº 42818', 'Propuesta nº 50982', 'Propuesta nº 33726', 'Propuesta nº 50970', 'Propuesta nº 21194', 'Propuesta nº 33570', 'Propuesta nº 50878', 'Propuesta nº 50874', 'Propuesta nº 50842', 'Propuesta nº 50750', 'Propuesta nº 50814', 'Propuesta nº 50790', 'Propuesta nº 50770', 'Propuesta nº 50758', 'Propuesta nº 7698', 'Propuesta nº 50694', 'Propuesta nº 50726', 'Propuesta nº 50558', 'Propuesta nº 50698', 'Propuesta nº 50578', 'Propuesta nº 50610', 'Propuesta nº 50574', 'Propuesta nº 1518', 'Propuesta nº 31022', 'Propuesta nº 30230', 'Propuesta nº 30018', 'Propuesta nº 6386', 'Propuesta nº 31978', 'Propuesta nº 30166', 'Propuesta nº 21786', 'Propuesta nº 6002', 'Propuesta nº 21234', 'Propuesta nº 9230', 'Propuesta nº 6110', 'Propuesta nº 19494', 'Propuesta nº 6134', 'Propuesta nº 19074', 'Propuesta nº 8654', 'Propuesta nº 8322', 'Propuesta nº 13018', 'Propuesta nº 19622', 'Propuesta nº 20370', 'Propuesta nº 14242', 'Propuesta nº 12210', 'Propuesta nº 47238', 'Propuesta nº 41662', 'Propuesta nº 41554', 'Propuesta nº 47802', 'Propuesta nº 43270', 'Propuesta nº 31310', 'Propuesta nº 42190', 'Propuesta nº 47310', 'Propuesta nº 47294', 'Propuesta nº 47030', 'Propuesta nº 47286', 'Propuesta nº 47070', 'Propuesta nº 47194', 'Propuesta nº 47186', 'Propuesta nº 22702', 'Propuesta nº 47062', 'Propuesta nº 6602', 'Propuesta nº 46138', 'Propuesta nº 46958', 'Propuesta nº 46734', 'Propuesta nº 45430', 'Propuesta nº 46898', 'Propuesta nº 46854', 'Propuesta nº 46570', 'Propuesta nº 34006', 'Propuesta nº 29998', 'Propuesta nº 19166', 'Propuesta nº 18718', 'Propuesta nº 40974', 'Propuesta nº 41454', 'Propuesta nº 41578', 'Propuesta nº 41550', 'Propuesta nº 41546', 'Propuesta nº 29958', 'Propuesta nº 29902', 'Propuesta nº 39794', 'Propuesta nº 32122', 'Propuesta nº 29138', 'Propuesta nº 37718', 'Propuesta nº 46194', 'Propuesta nº 50414', 'Propuesta nº 26266', 'Propuesta nº 42270', 'Propuesta nº 51622', 'Propuesta nº 51486', 'Propuesta nº 51350', 'Propuesta nº 33422', 'Propuesta nº 31914', 'Propuesta nº 51566', 'Propuesta nº 8410', 'Propuesta nº 37358', 'Propuesta nº 49786', 'Propuesta nº 49894', 'Propuesta nº 330', 'Propuesta nº 49882', 'Propuesta nº 49694', 'Propuesta nº 49814', 'Propuesta nº 11066', 'Propuesta nº 49742', 'Propuesta nº 43114', 'Propuesta nº 49638', 'Propuesta nº 49650', 'Propuesta nº 246', 'Propuesta nº 49706', 'Propuesta nº 27570', 'Propuesta nº 49670', 'Propuesta nº 49654', 'Propuesta nº 49562', 'Propuesta nº 49418', 'Propuesta nº 49510', 'Propuesta nº 49490', 'Propuesta nº 49486', 'Propuesta nº 49430', 'Propuesta nº 46746', 'Propuesta nº 11406', 'Propuesta nº 49086', 'Propuesta nº 48806', 'Propuesta nº 48630', 'Propuesta nº 45046', 'Propuesta nº 46142', 'Propuesta nº 46162', 'Propuesta nº 46126', 'Propuesta nº 46150', 'Propuesta nº 46002', 'Propuesta nº 45970', 'Propuesta nº 43358', 'Propuesta nº 45678', 'Propuesta nº 14798', 'Propuesta nº 45630', 'Propuesta nº 46418', 'Propuesta nº 46394', 'Propuesta nº 46406', 'Propuesta nº 43614', 'Propuesta nº 12850', 'Propuesta nº 11518', 'Propuesta nº 11158', 'Propuesta nº 35934', 'Propuesta nº 11930', 'Propuesta nº 50114', 'Propuesta nº 38026', 'Propuesta nº 17790', 'Propuesta nº 41902', 'Propuesta nº 37726', 'Propuesta nº 49222', 'Propuesta nº 48550', 'Propuesta nº 49298', 'Propuesta nº 47754', 'Propuesta nº 6990', 'Propuesta nº 49134', 'Propuesta nº 49210', 'Propuesta nº 49226', 'Propuesta nº 49090', 'Propuesta nº 49014', 'Propuesta nº 48890', 'Propuesta nº 48982', 'Propuesta nº 48994', 'Propuesta nº 48898', 'Propuesta nº 48926', 'Propuesta nº 40238', 'Propuesta nº 48870', 'Propuesta nº 48858', 'Propuesta nº 48358', 'Propuesta nº 48846', 'Propuesta nº 48818', 'Propuesta nº 48778', 'Propuesta nº 48834', 'Propuesta nº 20566', 'Propuesta nº 7834', 'Propuesta nº 11030', 'Propuesta nº 6502', 'Propuesta nº 8426', 'Propuesta nº 18378', 'Propuesta nº 10674', 'Propuesta nº 7870', 'Propuesta nº 7798', 'Propuesta nº 48726', 'Propuesta nº 13498', 'Propuesta nº 3470', 'Propuesta nº 1970', 'Propuesta nº 4550', 'Propuesta nº 46370', 'Propuesta nº 14442', 'Propuesta nº 48774', 'Propuesta nº 48182', 'Propuesta nº 48682', 'Propuesta nº 4946', 'Propuesta nº 5126', 'Propuesta nº 5798', 'Propuesta nº 46350', 'Propuesta nº 46310', 'Propuesta nº 48466', 'Propuesta nº 48510', 'Propuesta nº 15590', 'Propuesta nº 48594', 'Propuesta nº 48666', 'Propuesta nº 48646', 'Propuesta nº 36846', 'Propuesta nº 36990', 'Propuesta nº 37130', 'Propuesta nº 23538', 'Propuesta nº 37278', 'Propuesta nº 48462', 'Propuesta nº 37138', 'Propuesta nº 48394', 'Propuesta nº 48410', 'Propuesta nº 570', 'Propuesta nº 35810', 'Propuesta nº 36854', 'Propuesta nº 48214', 'Propuesta nº 48194', 'Propuesta nº 35398', 'Propuesta nº 35222', 'Propuesta nº 35166', 'Propuesta nº 48142', 'Propuesta nº 48058', 'Propuesta nº 34662', 'Propuesta nº 48006', 'Propuesta nº 45746', 'Propuesta nº 48110', 'Propuesta nº 43158', 'Propuesta nº 47998', 'Propuesta nº 48034', 'Propuesta nº 48010', 'Propuesta nº 47910', 'Propuesta nº 47986', 'Propuesta nº 47978', 'Propuesta nº 47914', 'Propuesta nº 66', 'Propuesta nº 47858', 'Propuesta nº 24130', 'Propuesta nº 47538', 'Propuesta nº 47494', 'Propuesta nº 47662', 'Propuesta nº 47330', 'Propuesta nº 47566', 'Propuesta nº 10970', 'Propuesta nº 13394', 'Propuesta nº 3846', 'Propuesta nº 45570', 'Propuesta nº 47474', 'Propuesta nº 47354', 'Propuesta nº 47426', 'Propuesta nº 47454', 'Propuesta nº 47386', 'Propuesta nº 43262', 'Propuesta nº 47830', 'Propuesta nº 47338', 'Propuesta nº 47838', 'Propuesta nº 47810', 'Propuesta nº 47794', 'Propuesta nº 44626', 'Propuesta nº 44602', 'Propuesta nº 44606', 'Propuesta nº 44254', 'Propuesta nº 44338', 'Propuesta nº 10902', 'Propuesta nº 44258', 'Propuesta nº 44406', 'Propuesta nº 11378', 'Propuesta nº 43982', 'Propuesta nº 44390', 'Propuesta nº 44438', 'Propuesta nº 44442', 'Propuesta nº 35922', 'Propuesta nº 44998', 'Propuesta nº 44830', 'Propuesta nº 45010', 'Propuesta nº 44878', 'Propuesta nº 44562', 'Propuesta nº 44570', 'Propuesta nº 44726', 'Propuesta nº 44214', 'Propuesta nº 44250', 'Propuesta nº 43014', 'Propuesta nº 42742', 'Propuesta nº 44522', 'Propuesta nº 44786', 'Propuesta nº 44822', 'Propuesta nº 44898', 'Propuesta nº 45002', 'Propuesta nº 37362', 'Propuesta nº 44914', 'Propuesta nº 44834', 'Propuesta nº 44094', 'Propuesta nº 44422', 'Propuesta nº 41518', 'Propuesta nº 38054', 'Propuesta nº 38406', 'Propuesta nº 44502', 'Propuesta nº 45078', 'Propuesta nº 45518', 'Propuesta nº 44622', 'Propuesta nº 45386', 'Propuesta nº 46034', 'Propuesta nº 45982', 'Propuesta nº 45930', 'Propuesta nº 45646', 'Propuesta nº 44650', 'Propuesta nº 46070', 'Propuesta nº 46114', 'Propuesta nº 7738', 'Propuesta nº 45642', 'Propuesta nº 46226', 'Propuesta nº 46258', 'Propuesta nº 45718', 'Propuesta nº 45014', 'Propuesta nº 46294', 'Propuesta nº 46170', 'Propuesta nº 46014', 'Propuesta nº 45994', 'Propuesta nº 45950', 'Propuesta nº 45402', 'Propuesta nº 45758', 'Propuesta nº 45686', 'Propuesta nº 45878', 'Propuesta nº 42750', 'Propuesta nº 45786', 'Propuesta nº 41226', 'Propuesta nº 45774', 'Propuesta nº 45650', 'Propuesta nº 45286', 'Propuesta nº 45770', 'Propuesta nº 42534', 'Propuesta nº 598', 'Propuesta nº 45706', 'Propuesta nº 45798', 'Propuesta nº 45586', 'Propuesta nº 45782', 'Propuesta nº 42658', 'Propuesta nº 37370', 'Propuesta nº 45714', 'Propuesta nº 6282', 'Propuesta nº 45658', 'Propuesta nº 45550', 'Propuesta nº 45226', 'Propuesta nº 32694', 'Propuesta nº 43938', 'Propuesta nº 44026', 'Propuesta nº 44006', 'Propuesta nº 43650', 'Propuesta nº 36982', 'Propuesta nº 42554', 'Propuesta nº 43862', 'Propuesta nº 43450', 'Propuesta nº 42806', 'Propuesta nº 21798', 'Propuesta nº 43410', 'Propuesta nº 42926', 'Propuesta nº 43642', 'Propuesta nº 43534', 'Propuesta nº 43850', 'Propuesta nº 43638', 'Propuesta nº 43414', 'Propuesta nº 43902', 'Propuesta nº 43434', 'Propuesta nº 43926', 'Propuesta nº 43878', 'Propuesta nº 43486', 'Propuesta nº 39066', 'Propuesta nº 43794', 'Propuesta nº 44038', 'Propuesta nº 6414', 'Propuesta nº 43302', 'Propuesta nº 43278', 'Propuesta nº 43030', 'Propuesta nº 43050', 'Propuesta nº 2502', 'Propuesta nº 43194', 'Propuesta nº 43090', 'Propuesta nº 43206', 'Propuesta nº 43134', 'Propuesta nº 43106', 'Propuesta nº 43094', 'Propuesta nº 41974', 'Propuesta nº 23850', 'Propuesta nº 42634', 'Propuesta nº 41606', 'Propuesta nº 43018', 'Propuesta nº 42970', 'Propuesta nº 43022', 'Propuesta nº 42730', 'Propuesta nº 43010', 'Propuesta nº 37166', 'Propuesta nº 43006', 'Propuesta nº 42998', 'Propuesta nº 42978', 'Propuesta nº 42918', 'Propuesta nº 42934', 'Propuesta nº 42766', 'Propuesta nº 42910', 'Propuesta nº 42882', 'Propuesta nº 42438', 'Propuesta nº 42734', 'Propuesta nº 42654', 'Propuesta nº 42838', 'Propuesta nº 42510', 'Propuesta nº 42722', 'Propuesta nº 42698', 'Propuesta nº 42718', 'Propuesta nº 42682', 'Propuesta nº 42674', 'Propuesta nº 42626', 'Propuesta nº 42610', 'Propuesta nº 42546', 'Propuesta nº 42606', 'Propuesta nº 34322', 'Propuesta nº 38278', 'Propuesta nº 38266', 'Propuesta nº 38170', 'Propuesta nº 38086', 'Propuesta nº 38038', 'Propuesta nº 38034', 'Propuesta nº 38022', 'Propuesta nº 37990', 'Propuesta nº 37930', 'Propuesta nº 24110', 'Propuesta nº 42642', 'Propuesta nº 42430', 'Propuesta nº 27946', 'Propuesta nº 42470', 'Propuesta nº 42574', 'Propuesta nº 42462', 'Propuesta nº 42338', 'Propuesta nº 42326', 'Propuesta nº 42434', 'Propuesta nº 42146', 'Propuesta nº 30430', 'Propuesta nº 42374', 'Propuesta nº 42286', 'Propuesta nº 42242', 'Propuesta nº 42318', 'Propuesta nº 42334', 'Propuesta nº 42262', 'Propuesta nº 42274', 'Propuesta nº 42218', 'Propuesta nº 42246', 'Propuesta nº 42166', 'Propuesta nº 42142', 'Propuesta nº 42210', 'Propuesta nº 42234', 'Propuesta nº 42058', 'Propuesta nº 42010', 'Propuesta nº 42134', 'Propuesta nº 42106', 'Propuesta nº 42194', 'Propuesta nº 42154', 'Propuesta nº 41466', 'Propuesta nº 42102', 'Propuesta nº 2170', 'Propuesta nº 42002', 'Propuesta nº 42090', 'Propuesta nº 42070', 'Propuesta nº 22358', 'Propuesta nº 41318', 'Propuesta nº 42006', 'Propuesta nº 41970', 'Propuesta nº 41958', 'Propuesta nº 41946', 'Propuesta nº 41922', 'Propuesta nº 41882', 'Propuesta nº 41694', 'Propuesta nº 26010', 'Propuesta nº 41474', 'Propuesta nº 41786', 'Propuesta nº 37938', 'Propuesta nº 45166', 'Propuesta nº 45258', 'Propuesta nº 45098', 'Propuesta nº 44662', 'Propuesta nº 44766', 'Propuesta nº 39494', 'Propuesta nº 39086', 'Propuesta nº 39342', 'Propuesta nº 39422', 'Propuesta nº 39382', 'Propuesta nº 39374', 'Propuesta nº 39054', 'Propuesta nº 39090', 'Propuesta nº 40458', 'Propuesta nº 40174', 'Propuesta nº 40518', 'Propuesta nº 40446', 'Propuesta nº 39646', 'Propuesta nº 28142', 'Propuesta nº 40434', 'Propuesta nº 38382', 'Propuesta nº 39082', 'Propuesta nº 40342', 'Propuesta nº 39122', 'Propuesta nº 32018', 'Propuesta nº 38838', 'Propuesta nº 38986', 'Propuesta nº 38578', 'Propuesta nº 38834', 'Propuesta nº 38926', 'Propuesta nº 4546', 'Propuesta nº 38914', 'Propuesta nº 28858', 'Propuesta nº 28818', 'Propuesta nº 34374', 'Propuesta nº 37890', 'Propuesta nº 37878', 'Propuesta nº 37650', 'Propuesta nº 37374', 'Propuesta nº 26330', 'Propuesta nº 40242', 'Propuesta nº 44166', 'Propuesta nº 43834', 'Propuesta nº 41590', 'Propuesta nº 41690', 'Propuesta nº 39902', 'Propuesta nº 41706', 'Propuesta nº 41750', 'Propuesta nº 41710', 'Propuesta nº 39274', 'Propuesta nº 41642', 'Propuesta nº 41638', 'Propuesta nº 34474', 'Propuesta nº 41558', 'Propuesta nº 41498', 'Propuesta nº 41502', 'Propuesta nº 41418', 'Propuesta nº 41434', 'Propuesta nº 41374', 'Propuesta nº 41234', 'Propuesta nº 41354', 'Propuesta nº 41314', 'Propuesta nº 41326', 'Propuesta nº 32434', 'Propuesta nº 40630', 'Propuesta nº 41018', 'Propuesta nº 40966', 'Propuesta nº 39514', 'Propuesta nº 39710', 'Propuesta nº 38910', 'Propuesta nº 35954', 'Propuesta nº 32910', 'Propuesta nº 30514', 'Propuesta nº 36238', 'Propuesta nº 36134', 'Propuesta nº 36170', 'Propuesta nº 36074', 'Propuesta nº 37614', 'Propuesta nº 13358', 'Propuesta nº 37638', 'Propuesta nº 28686', 'Propuesta nº 36326', 'Propuesta nº 36306', 'Propuesta nº 36362', 'Propuesta nº 36410', 'Propuesta nº 35962', 'Propuesta nº 36350', 'Propuesta nº 37466', 'Propuesta nº 36426', 'Propuesta nº 36442', 'Propuesta nº 40230', 'Propuesta nº 41126', 'Propuesta nº 36394', 'Propuesta nº 36454', 'Propuesta nº 36450', 'Propuesta nº 36486', 'Propuesta nº 37534', 'Propuesta nº 36530', 'Propuesta nº 36490', 'Propuesta nº 37482', 'Propuesta nº 36582', 'Propuesta nº 35194', 'Propuesta nº 36614', 'Propuesta nº 35806', 'Propuesta nº 36618', 'Propuesta nº 36634', 'Propuesta nº 36674', 'Propuesta nº 37242', 'Propuesta nº 36010', 'Propuesta nº 36030', 'Propuesta nº 36014', 'Propuesta nº 37234', 'Propuesta nº 35910', 'Propuesta nº 37086', 'Propuesta nº 11050', 'Propuesta nº 1658', 'Propuesta nº 34050', 'Propuesta nº 35870', 'Propuesta nº 33998', 'Propuesta nº 35722', 'Propuesta nº 33594', 'Propuesta nº 37078', 'Propuesta nº 33994', 'Propuesta nº 37114', 'Propuesta nº 35582', 'Propuesta nº 33950', 'Propuesta nº 33946', 'Propuesta nº 37070', 'Propuesta nº 33874', 'Propuesta nº 33834', 'Propuesta nº 37046', 'Propuesta nº 33866', 'Propuesta nº 33718', 'Propuesta nº 33826', 'Propuesta nº 36934', 'Propuesta nº 33578', 'Propuesta nº 33694', 'Propuesta nº 31318', 'Propuesta nº 20114', 'Propuesta nº 30002', 'Propuesta nº 29762', 'Propuesta nº 29710', 'Propuesta nº 29810', 'Propuesta nº 29666', 'Propuesta nº 17602', 'Propuesta nº 29450', 'Propuesta nº 29414', 'Propuesta nº 29462', 'Propuesta nº 29470', 'Propuesta nº 29262', 'Propuesta nº 27850', 'Propuesta nº 27878', 'Propuesta nº 26670', 'Propuesta nº 22134', 'Propuesta nº 35074', 'Propuesta nº 35046', 'Propuesta nº 34950', 'Propuesta nº 22102', 'Propuesta nº 33002', 'Propuesta nº 32414', 'Propuesta nº 25026', 'Propuesta nº 32342', 'Propuesta nº 28178', 'Propuesta nº 22030', 'Propuesta nº 26990', 'Propuesta nº 33266', 'Propuesta nº 32226', 'Propuesta nº 31994', 'Propuesta nº 31398', 'Propuesta nº 31918', 'Propuesta nº 22338', 'Propuesta nº 31150', 'Propuesta nº 29678', 'Propuesta nº 30346', 'Propuesta nº 30134', 'Propuesta nº 18130', 'Propuesta nº 27746', 'Propuesta nº 27422', 'Propuesta nº 27270', 'Propuesta nº 27966', 'Propuesta nº 27726', 'Propuesta nº 26774', 'Propuesta nº 19194', 'Propuesta nº 22598', 'Propuesta nº 33078', 'Propuesta nº 33622', 'Propuesta nº 27070', 'Propuesta nº 33686', 'Propuesta nº 33670', 'Propuesta nº 22194', 'Propuesta nº 33762', 'Propuesta nº 27086', 'Propuesta nº 26966', 'Propuesta nº 27078', 'Propuesta nº 26902', 'Propuesta nº 33658', 'Propuesta nº 33034', 'Propuesta nº 33478', 'Propuesta nº 34902', 'Propuesta nº 34854', 'Propuesta nº 34730', 'Propuesta nº 20618', 'Propuesta nº 34658', 'Propuesta nº 34358', 'Propuesta nº 34594', 'Propuesta nº 34366', 'Propuesta nº 34486', 'Propuesta nº 25714', 'Propuesta nº 34238', 'Propuesta nº 34070', 'Propuesta nº 33986', 'Propuesta nº 33458', 'Propuesta nº 38310', 'Propuesta nº 33250', 'Propuesta nº 33402', 'Propuesta nº 33290', 'Propuesta nº 33462', 'Propuesta nº 32886', 'Propuesta nº 26074', 'Propuesta nº 33234', 'Propuesta nº 32598', 'Propuesta nº 32514', 'Propuesta nº 23710', 'Propuesta nº 33158', 'Propuesta nº 33082', 'Propuesta nº 32578', 'Propuesta nº 25670', 'Propuesta nº 25842', 'Propuesta nº 25802', 'Propuesta nº 33114', 'Propuesta nº 32214', 'Propuesta nº 32194', 'Propuesta nº 31814', 'Propuesta nº 32034', 'Propuesta nº 31342', 'Propuesta nº 31870', 'Propuesta nº 31754', 'Propuesta nº 31794', 'Propuesta nº 31750', 'Propuesta nº 19130', 'Propuesta nº 25902', 'Propuesta nº 25442', 'Propuesta nº 25786', 'Propuesta nº 25686', 'Propuesta nº 25730', 'Propuesta nº 25334', 'Propuesta nº 25274', 'Propuesta nº 24590', 'Propuesta nº 25426', 'Propuesta nº 25398', 'Propuesta nº 25182', 'Propuesta nº 25346', 'Propuesta nº 25122', 'Propuesta nº 24938', 'Propuesta nº 25102', 'Propuesta nº 25098', 'Propuesta nº 25006', 'Propuesta nº 31558', 'Propuesta nº 31422', 'Propuesta nº 30742', 'Propuesta nº 31190', 'Propuesta nº 31106', 'Propuesta nº 26614', 'Propuesta nº 31062', 'Propuesta nº 29346', 'Propuesta nº 31130', 'Propuesta nº 30750', 'Propuesta nº 31058', 'Propuesta nº 18966', 'Propuesta nº 30950', 'Propuesta nº 30774', 'Propuesta nº 30462', 'Propuesta nº 30638', 'Propuesta nº 25718', 'Propuesta nº 25258', 'Propuesta nº 25626', 'Propuesta nº 25002', 'Propuesta nº 24830', 'Propuesta nº 25022', 'Propuesta nº 25014', 'Propuesta nº 24946', 'Propuesta nº 630', 'Propuesta nº 24922', 'Propuesta nº 24994', 'Propuesta nº 24882', 'Propuesta nº 24814', 'Propuesta nº 24662', 'Propuesta nº 24726', 'Propuesta nº 30194', 'Propuesta nº 25562', 'Propuesta nº 25590', 'Propuesta nº 25246', 'Propuesta nº 25586', 'Propuesta nº 26386', 'Propuesta nº 26370', 'Propuesta nº 26730', 'Propuesta nº 914', 'Propuesta nº 7478', 'Propuesta nº 26550', 'Propuesta nº 26458', 'Propuesta nº 26254', 'Propuesta nº 26826', 'Propuesta nº 16570', 'Propuesta nº 25486', 'Propuesta nº 26422', 'Propuesta nº 26846', 'Propuesta nº 26590', 'Propuesta nº 3362', 'Propuesta nº 27046', 'Propuesta nº 25502', 'Propuesta nº 26186', 'Propuesta nº 5930', 'Propuesta nº 26790', 'Propuesta nº 26910', 'Propuesta nº 9962', 'Propuesta nº 27026', 'Propuesta nº 17798', 'Propuesta nº 26278', 'Propuesta nº 25342', 'Propuesta nº 25418', 'Propuesta nº 25542', 'Propuesta nº 26706', 'Propuesta nº 28190', 'Propuesta nº 27814', 'Propuesta nº 19350', 'Propuesta nº 24562', 'Propuesta nº 24402', 'Propuesta nº 24234', 'Propuesta nº 22318', 'Propuesta nº 17550', 'Propuesta nº 23638', 'Propuesta nº 23154', 'Propuesta nº 23146', 'Propuesta nº 18942', 'Propuesta nº 23350', 'Propuesta nº 23630', 'Propuesta nº 23562', 'Propuesta nº 23418', 'Propuesta nº 23846', 'Propuesta nº 23866', 'Propuesta nº 23394', 'Propuesta nº 23742', 'Propuesta nº 23170', 'Propuesta nº 17274', 'Propuesta nº 17302', 'Propuesta nº 17106', 'Propuesta nº 17298', 'Propuesta nº 17562', 'Propuesta nº 16498', 'Propuesta nº 17342', 'Propuesta nº 23626', 'Propuesta nº 22378', 'Propuesta nº 1778', 'Propuesta nº 24582', 'Propuesta nº 17234', 'Propuesta nº 24450', 'Propuesta nº 24470', 'Propuesta nº 24390', 'Propuesta nº 24386', 'Propuesta nº 24410', 'Propuesta nº 24558', 'Propuesta nº 11498', 'Propuesta nº 11490', 'Propuesta nº 11298', 'Propuesta nº 11226', 'Propuesta nº 11194', 'Propuesta nº 11170', 'Propuesta nº 11094', 'Propuesta nº 23158', 'Propuesta nº 23122', 'Propuesta nº 23050', 'Propuesta nº 22450', 'Propuesta nº 22926', 'Propuesta nº 20986', 'Propuesta nº 21986', 'Propuesta nº 21946', 'Propuesta nº 21814', 'Propuesta nº 21782', 'Propuesta nº 21734', 'Propuesta nº 21674', 'Propuesta nº 21650', 'Propuesta nº 21498', 'Propuesta nº 21526', 'Propuesta nº 21534', 'Propuesta nº 22138', 'Propuesta nº 22994', 'Propuesta nº 22922', 'Propuesta nº 22982', 'Propuesta nº 22726', 'Propuesta nº 22886', 'Propuesta nº 22766', 'Propuesta nº 17674', 'Propuesta nº 21190', 'Propuesta nº 17890', 'Propuesta nº 19878', 'Propuesta nº 22850', 'Propuesta nº 22822', 'Propuesta nº 22678', 'Propuesta nº 22746', 'Propuesta nº 22730', 'Propuesta nº 9314', 'Propuesta nº 22626', 'Propuesta nº 22706', 'Propuesta nº 22090', 'Propuesta nº 13854', 'Propuesta nº 23750', 'Propuesta nº 17974', 'Propuesta nº 19930', 'Propuesta nº 17926', 'Propuesta nº 19906', 'Propuesta nº 19774', 'Propuesta nº 19830', 'Propuesta nº 19366', 'Propuesta nº 19986', 'Propuesta nº 21402', 'Propuesta nº 21394', 'Propuesta nº 18906', 'Propuesta nº 19446', 'Propuesta nº 21238', 'Propuesta nº 21306', 'Propuesta nº 18838', 'Propuesta nº 20874', 'Propuesta nº 22258', 'Propuesta nº 12062', 'Propuesta nº 22550', 'Propuesta nº 20754', 'Propuesta nº 20910', 'Propuesta nº 20878', 'Propuesta nº 20746', 'Propuesta nº 20694', 'Propuesta nº 20642', 'Propuesta nº 20654', 'Propuesta nº 20550', 'Propuesta nº 20594', 'Propuesta nº 22546', 'Propuesta nº 15070', 'Propuesta nº 20366', 'Propuesta nº 20254', 'Propuesta nº 6186', 'Propuesta nº 20226', 'Propuesta nº 20034', 'Propuesta nº 9370', 'Propuesta nº 8586', 'Propuesta nº 8618', 'Propuesta nº 17630', 'Propuesta nº 17718', 'Propuesta nº 17726', 'Propuesta nº 17682', 'Propuesta nº 17546', 'Propuesta nº 16898', 'Propuesta nº 17614', 'Propuesta nº 17570', 'Propuesta nº 17606', 'Propuesta nº 7606', 'Propuesta nº 18138', 'Propuesta nº 17990', 'Propuesta nº 16102', 'Propuesta nº 1630', 'Propuesta nº 13366', 'Propuesta nº 13378', 'Propuesta nº 13294', 'Propuesta nº 13162', 'Propuesta nº 13242', 'Propuesta nº 12906', 'Propuesta nº 10250', 'Propuesta nº 10258', 'Propuesta nº 9446', 'Propuesta nº 11022', 'Propuesta nº 13306', 'Propuesta nº 18998', 'Propuesta nº 18782', 'Propuesta nº 17126', 'Propuesta nº 19394', 'Propuesta nº 19302', 'Propuesta nº 19254', 'Propuesta nº 19246', 'Propuesta nº 16850', 'Propuesta nº 15638', 'Propuesta nº 16786', 'Propuesta nº 19010', 'Propuesta nº 18810', 'Propuesta nº 18818', 'Propuesta nº 18866', 'Propuesta nº 18834', 'Propuesta nº 18910', 'Propuesta nº 18914', 'Propuesta nº 13398', 'Propuesta nº 14594', 'Propuesta nº 18374', 'Propuesta nº 18730', 'Propuesta nº 18034', 'Propuesta nº 18758', 'Propuesta nº 17386', 'Propuesta nº 18294', 'Propuesta nº 18770', 'Propuesta nº 18514', 'Propuesta nº 18706', 'Propuesta nº 18606', 'Propuesta nº 18670', 'Propuesta nº 18666', 'Propuesta nº 18218', 'Propuesta nº 8746', 'Propuesta nº 18078', 'Propuesta nº 18534', 'Propuesta nº 18538', 'Propuesta nº 18494', 'Propuesta nº 18394', 'Propuesta nº 15794', 'Propuesta nº 18342', 'Propuesta nº 11402', 'Propuesta nº 3666', 'Propuesta nº 18262', 'Propuesta nº 18250', 'Propuesta nº 18202', 'Propuesta nº 9378', 'Propuesta nº 4490', 'Propuesta nº 9414', 'Propuesta nº 8802', 'Propuesta nº 8770', 'Propuesta nº 8734', 'Propuesta nº 8714', 'Propuesta nº 8638', 'Propuesta nº 8682', 'Propuesta nº 8602', 'Propuesta nº 16854', 'Propuesta nº 16766', 'Propuesta nº 16894', 'Propuesta nº 17002', 'Propuesta nº 17046', 'Propuesta nº 15302', 'Propuesta nº 17026', 'Propuesta nº 17114', 'Propuesta nº 17202', 'Propuesta nº 16566', 'Propuesta nº 16934', 'Propuesta nº 17166', 'Propuesta nº 16838', 'Propuesta nº 17282', 'Propuesta nº 17278', 'Propuesta nº 16890', 'Propuesta nº 5906', 'Propuesta nº 5814', 'Propuesta nº 7830', 'Propuesta nº 19382', 'Propuesta nº 4538', 'Propuesta nº 7010', 'Propuesta nº 5902', 'Propuesta nº 1850', 'Propuesta nº 614', 'Propuesta nº 846', 'Propuesta nº 15874', 'Propuesta nº 15830', 'Propuesta nº 15846', 'Propuesta nº 15818', 'Propuesta nº 15698', 'Propuesta nº 15406', 'Propuesta nº 15810', 'Propuesta nº 15778', 'Propuesta nº 13554', 'Propuesta nº 15514', 'Propuesta nº 15266', 'Propuesta nº 15270', 'Propuesta nº 13830', 'Propuesta nº 14902', 'Propuesta nº 15186', 'Propuesta nº 15370', 'Propuesta nº 15470', 'Propuesta nº 15338', 'Propuesta nº 14126', 'Propuesta nº 4290', 'Propuesta nº 15426', 'Propuesta nº 15506', 'Propuesta nº 15522', 'Propuesta nº 14930', 'Propuesta nº 14818', 'Propuesta nº 15034', 'Propuesta nº 14990', 'Propuesta nº 15078', 'Propuesta nº 14962', 'Propuesta nº 15130', 'Propuesta nº 14710', 'Propuesta nº 15226', 'Propuesta nº 15554', 'Propuesta nº 15570', 'Propuesta nº 7434', 'Propuesta nº 7498', 'Propuesta nº 7026', 'Propuesta nº 6758', 'Propuesta nº 6794', 'Propuesta nº 6642', 'Propuesta nº 6590', 'Propuesta nº 6626', 'Propuesta nº 6618', 'Propuesta nº 6614', 'Propuesta nº 7782', 'Propuesta nº 6466', 'Propuesta nº 15534', 'Propuesta nº 14506', 'Propuesta nº 14734', 'Propuesta nº 14062', 'Propuesta nº 14846', 'Propuesta nº 14778', 'Propuesta nº 14866', 'Propuesta nº 14862', 'Propuesta nº 14426', 'Propuesta nº 14718', 'Propuesta nº 14830', 'Propuesta nº 14698', 'Propuesta nº 14726', 'Propuesta nº 14522', 'Propuesta nº 14502', 'Propuesta nº 5566', 'Propuesta nº 5150', 'Propuesta nº 14346', 'Propuesta nº 14222', 'Propuesta nº 13638', 'Propuesta nº 14250', 'Propuesta nº 14178', 'Propuesta nº 13818', 'Propuesta nº 50', 'Propuesta nº 13882', 'Propuesta nº 13842', 'Propuesta nº 13670', 'Propuesta nº 5490', 'Propuesta nº 16186', 'Propuesta nº 16214', 'Propuesta nº 16174', 'Propuesta nº 16222', 'Propuesta nº 16234', 'Propuesta nº 9754', 'Propuesta nº 16454', 'Propuesta nº 16230', 'Propuesta nº 16466', 'Propuesta nº 16458', 'Propuesta nº 16906', 'Propuesta nº 16274', 'Propuesta nº 16830', 'Propuesta nº 15150', 'Propuesta nº 16682', 'Propuesta nº 16726', 'Propuesta nº 16086', 'Propuesta nº 15950', 'Propuesta nº 15946', 'Propuesta nº 15890', 'Propuesta nº 16058', 'Propuesta nº 12594', 'Propuesta nº 18950', 'Propuesta nº 18902', 'Propuesta nº 18198', 'Propuesta nº 18382', 'Propuesta nº 10798', 'Propuesta nº 10830', 'Propuesta nº 682', 'Propuesta nº 10922', 'Propuesta nº 12326', 'Propuesta nº 12142', 'Propuesta nº 12022', 'Propuesta nº 12346', 'Propuesta nº 12290', 'Propuesta nº 12178', 'Propuesta nº 12418', 'Propuesta nº 12438', 'Propuesta nº 12538', 'Propuesta nº 12390', 'Propuesta nº 12362', 'Propuesta nº 12578', 'Propuesta nº 12650', 'Propuesta nº 12574', 'Propuesta nº 12382', 'Propuesta nº 12750', 'Propuesta nº 11514', 'Propuesta nº 12162', 'Propuesta nº 10898', 'Propuesta nº 10770', 'Propuesta nº 9542', 'Propuesta nº 9538', 'Propuesta nº 9530', 'Propuesta nº 9426', 'Propuesta nº 9402', 'Propuesta nº 8374', 'Propuesta nº 9238', 'Propuesta nº 8990', 'Propuesta nº 8866', 'Propuesta nº 8758', 'Propuesta nº 8826', 'Propuesta nº 11906', 'Propuesta nº 8782', 'Propuesta nº 13346', 'Propuesta nº 6538', 'Propuesta nº 6534', 'Propuesta nº 13362', 'Propuesta nº 13138', 'Propuesta nº 13118', 'Propuesta nº 12542', 'Propuesta nº 13006', 'Propuesta nº 12754', 'Propuesta nº 12946', 'Propuesta nº 6470', 'Propuesta nº 7510', 'Propuesta nº 7690', 'Propuesta nº 7686', 'Propuesta nº 12982', 'Propuesta nº 12738', 'Propuesta nº 12930', 'Propuesta nº 12838', 'Propuesta nº 5918', 'Propuesta nº 8202', 'Propuesta nº 1646', 'Propuesta nº 8242', 'Propuesta nº 8198', 'Propuesta nº 2578', 'Propuesta nº 8254', 'Propuesta nº 8082', 'Propuesta nº 4658', 'Propuesta nº 8258', 'Propuesta nº 4058', 'Propuesta nº 12206', 'Propuesta nº 12202', 'Propuesta nº 12198', 'Propuesta nº 11938', 'Propuesta nº 11854', 'Propuesta nº 11858', 'Propuesta nº 11946', 'Propuesta nº 9614', 'Propuesta nº 11806', 'Propuesta nº 11846', 'Propuesta nº 11802', 'Propuesta nº 11818', 'Propuesta nº 11814', 'Propuesta nº 11810', 'Propuesta nº 11762', 'Propuesta nº 11726', 'Propuesta nº 11702', 'Propuesta nº 11706', 'Propuesta nº 11606', 'Propuesta nº 11698', 'Propuesta nº 10618', 'Propuesta nº 10442', 'Propuesta nº 10454', 'Propuesta nº 10414', 'Propuesta nº 10398', 'Propuesta nº 10322', 'Propuesta nº 9598', 'Propuesta nº 10210', 'Propuesta nº 10230', 'Propuesta nº 10234', 'Propuesta nº 10218', 'Propuesta nº 10190', 'Propuesta nº 10182', 'Propuesta nº 10166', 'Propuesta nº 5438', 'Propuesta nº 10126', 'Propuesta nº 10078', 'Propuesta nº 10038', 'Propuesta nº 10062', 'Propuesta nº 10074', 'Propuesta nº 10050', 'Propuesta nº 10034', 'Propuesta nº 10002', 'Propuesta nº 9650', 'Propuesta nº 8986', 'Propuesta nº 9770', 'Propuesta nº 9894', 'Propuesta nº 9886', 'Propuesta nº 4126', 'Propuesta nº 9846', 'Propuesta nº 9802', 'Propuesta nº 9210', 'Propuesta nº 9546', 'Propuesta nº 8042', 'Propuesta nº 7314', 'Propuesta nº 9418', 'Propuesta nº 7726', 'Propuesta nº 7918', 'Propuesta nº 9322', 'Propuesta nº 5938', 'Propuesta nº 9942', 'Propuesta nº 9502', 'Propuesta nº 9666', 'Propuesta nº 5874', 'Propuesta nº 9246', 'Propuesta nº 9638', 'Propuesta nº 9026', 'Propuesta nº 8626', 'Propuesta nº 8530', 'Propuesta nº 8450', 'Propuesta nº 8498', 'Propuesta nº 7582', 'Propuesta nº 8474', 'Propuesta nº 8270', 'Propuesta nº 7750', 'Propuesta nº 3374', 'Propuesta nº 7858', 'Propuesta nº 4398', 'Propuesta nº 7878', 'Propuesta nº 7990', 'Propuesta nº 8094', 'Propuesta nº 3774', 'Propuesta nº 7974', 'Propuesta nº 7986', 'Propuesta nº 8010', 'Propuesta nº 8250', 'Propuesta nº 8150', 'Propuesta nº 8126', 'Propuesta nº 3930', 'Propuesta nº 3350', 'Propuesta nº 3318', 'Propuesta nº 5358', 'Propuesta nº 6246', 'Propuesta nº 6474', 'Propuesta nº 6330', 'Propuesta nº 5962', 'Propuesta nº 6394', 'Propuesta nº 6366', 'Propuesta nº 4078', 'Propuesta nº 6378', 'Propuesta nº 6250', 'Propuesta nº 6222', 'Propuesta nº 6146', 'Propuesta nº 7366', 'Propuesta nº 4622', 'Propuesta nº 5754', 'Propuesta nº 7090', 'Propuesta nº 5718', 'Propuesta nº 2114', 'Propuesta nº 1930', 'Propuesta nº 4718', 'Propuesta nº 5494', 'Propuesta nº 5054', 'Propuesta nº 7838', 'Propuesta nº 9126', 'Propuesta nº 9134', 'Propuesta nº 1834', 'Propuesta nº 5722', 'Propuesta nº 5694', 'Propuesta nº 5646', 'Propuesta nº 4714', 'Propuesta nº 4498', 'Propuesta nº 3882', 'Propuesta nº 3306', 'Propuesta nº 2322', 'Propuesta nº 5390', 'Propuesta nº 4326', 'Propuesta nº 3694', 'Propuesta nº 2218', 'Propuesta nº 2066', 'Propuesta nº 722', 'Propuesta nº 7786', 'Propuesta nº 7646', 'Propuesta nº 7486', 'Propuesta nº 7802', 'Propuesta nº 7506', 'Propuesta nº 7502', 'Propuesta nº 7418', 'Propuesta nº 7450', 'Propuesta nº 7338', 'Propuesta nº 7062', 'Propuesta nº 7302', 'Propuesta nº 7098', 'Propuesta nº 7170', 'Propuesta nº 7130', 'Propuesta nº 7126', 'Propuesta nº 7006', 'Propuesta nº 6930', 'Propuesta nº 6886', 'Propuesta nº 6866', 'Propuesta nº 6850', 'Propuesta nº 6874', 'Propuesta nº 6858', 'Propuesta nº 4710', 'Propuesta nº 5554', 'Propuesta nº 4158', 'Propuesta nº 4518', 'Propuesta nº 2718', 'Propuesta nº 4482', 'Propuesta nº 4050', 'Propuesta nº 3958', 'Propuesta nº 5374', 'Propuesta nº 3246', 'Propuesta nº 3834', 'Propuesta nº 4898', 'Propuesta nº 5602', 'Propuesta nº 2450', 'Propuesta nº 3062', 'Propuesta nº 8590', 'Propuesta nº 5698', 'Propuesta nº 2166', 'Propuesta nº 626', 'Propuesta nº 2102', 'Propuesta nº 2150', 'Propuesta nº 646', 'Propuesta nº 350', 'Propuesta nº 2190', 'Propuesta nº 198', 'Propuesta nº 5542', 'Propuesta nº 2358', 'Propuesta nº 1906', 'Propuesta nº 5074', 'Propuesta nº 5190', 'Propuesta nº 5458', 'Propuesta nº 874', 'Propuesta nº 5474', 'Propuesta nº 4954', 'Propuesta nº 4906', 'Propuesta nº 4602', 'Propuesta nº 4486', 'Propuesta nº 4414', 'Propuesta nº 5970', 'Propuesta nº 1942', 'Propuesta nº 5778', 'Propuesta nº 5770', 'Propuesta nº 5574', 'Propuesta nº 5394', 'Propuesta nº 5534', 'Propuesta nº 4874', 'Propuesta nº 4878', 'Propuesta nº 4770', 'Propuesta nº 4930', 'Propuesta nº 4858', 'Propuesta nº 3414', 'Propuesta nº 2062', 'Propuesta nº 3390', 'Propuesta nº 5942', 'Propuesta nº 4014', 'Propuesta nº 546', 'Propuesta nº 3394', 'Propuesta nº 3430', 'Propuesta nº 458', 'Propuesta nº 2010', 'Propuesta nº 3622', 'Propuesta nº 2310', 'Propuesta nº 3542', 'Propuesta nº 3522', 'Propuesta nº 3482', 'Propuesta nº 3410', 'Propuesta nº 3242', 'Propuesta nº 334', 'Propuesta nº 3422', 'Propuesta nº 3490', 'Propuesta nº 270', 'Propuesta nº 2034', 'Propuesta nº 3238', 'Propuesta nº 5614', 'Propuesta nº 94', 'Propuesta nº 4102', 'Propuesta nº 4162', 'Propuesta nº 4274', 'Propuesta nº 2426', 'Propuesta nº 4366', 'Propuesta nº 690', 'Propuesta nº 2334', 'Propuesta nº 3342', 'Propuesta nº 3030', 'Propuesta nº 3114', 'Propuesta nº 3006', 'Propuesta nº 3182', 'Propuesta nº 3214', 'Propuesta nº 2834', 'Propuesta nº 3042', 'Propuesta nº 2826', 'Propuesta nº 2934', 'Propuesta nº 1586', 'Propuesta nº 2582', 'Propuesta nº 174', 'Propuesta nº 2866', 'Propuesta nº 2950', 'Propuesta nº 2458', 'Propuesta nº 2278', 'Propuesta nº 2350', 'Propuesta nº 122', 'Propuesta nº 142', 'Propuesta nº 34', 'Propuesta nº 38', 'Propuesta nº 22', 'Propuesta nº 5318', 'Propuesta nº 5246', 'Propuesta nº 5522', 'Propuesta nº 5334', 'Propuesta nº 4174', 'Propuesta nº 5142', 'Propuesta nº 5418', 'Propuesta nº 5502', 'Propuesta nº 490', 'Propuesta nº 5462', 'Propuesta nº 1298', 'Propuesta nº 1462', 'Propuesta nº 1454', 'Propuesta nº 1374', 'Propuesta nº 1238', 'Propuesta nº 1426', 'Propuesta nº 1370', 'Propuesta nº 1366', 'Propuesta nº 1278', 'Propuesta nº 1306', 'Propuesta nº 1214', 'Propuesta nº 1126', 'Propuesta nº 1058', 'Propuesta nº 1050', 'Propuesta nº 1022', 'Propuesta nº 1030', 'Propuesta nº 970', 'Propuesta nº 818', 'Propuesta nº 958', 'Propuesta nº 746', 'Propuesta nº 1186', 'Propuesta nº 1110', 'Propuesta nº 1194', 'Propuesta nº 1650', 'Propuesta nº 5586', 'Propuesta nº 5354', 'Propuesta nº 4418', 'Propuesta nº 4138', 'Propuesta nº 4774', 'Propuesta nº 4738', 'Propuesta nº 4758', 'Propuesta nº 4750', 'Propuesta nº 4026', 'Propuesta nº 4018']\n",
      "<class 'list'>\n"
     ]
    }
   ],
   "source": [
    "numero_propuesta_raw = soup.select('div.card > div > h2')\n",
    "\n",
    "numero_propuesta = [nombre.text for nombre in numero_propuesta_raw]\n",
    "print(len(numero_propuesta))\n",
    "# numero_propuesta[0]\n",
    "print(numero_propuesta)\n",
    "print(type(numero_propuesta))"
   ]
  },
  {
   "cell_type": "code",
   "execution_count": 31,
   "metadata": {
    "colab": {
     "base_uri": "https://localhost:8080/"
    },
    "gradient": {
     "editing": false,
     "id": "cf9a21fd-8b91-459e-a65a-6c02746a547f",
     "kernelId": ""
    },
    "id": "xZohhBEQvsaB",
    "outputId": "98004e14-24b6-420e-c3a9-35cf3c89a2c8"
   },
   "outputs": [
    {
     "name": "stdout",
     "output_type": "stream",
     "text": [
      "2495\n"
     ]
    }
   ],
   "source": [
    "nombre_autor_raw = soup.select('div.card > div.autor')\n",
    "\n",
    "\n",
    "nombre_autor = [nombre.text for nombre in nombre_autor_raw]\n",
    "print(len(nombre_autor))\n",
    "# nnombre_autor[0]\n",
    "# print(nombre_autor)"
   ]
  },
  {
   "cell_type": "code",
   "execution_count": 32,
   "metadata": {
    "colab": {
     "base_uri": "https://localhost:8080/"
    },
    "gradient": {
     "editing": false,
     "id": "c55b4a2a-9cc8-442e-8222-9b3e454f1c96",
     "kernelId": ""
    },
    "id": "kOom0HoD5QXn",
    "outputId": "bba685e0-82c6-4551-f8f4-977e52b1cdc6"
   },
   "outputs": [
    {
     "name": "stdout",
     "output_type": "stream",
     "text": [
      "2495\n"
     ]
    }
   ],
   "source": [
    "iniciativa_raw = soup.select('div.card > div > h1 > a')\n",
    "nombre_iniciativa = [nombre.text.lower().capitalize() for nombre in iniciativa_raw]\n",
    "#nombre_iniciativa_small = nombre_iniciativa.small()\n",
    "\n",
    "print(len(nombre_iniciativa))\n",
    "# seccion[0]\n",
    "# print(nombre_iniciativa)"
   ]
  },
  {
   "cell_type": "code",
   "execution_count": 33,
   "metadata": {
    "gradient": {
     "editing": false,
     "id": "6b9af0e4-c5dc-42ca-ae58-abcfa3464bb9",
     "kernelId": ""
    }
   },
   "outputs": [
    {
     "name": "stdout",
     "output_type": "stream",
     "text": [
      "2495\n"
     ]
    }
   ],
   "source": [
    "seccion_raw = soup.select('div.card > div > h1 > a')\n",
    "\n",
    "\n",
    "seccion = [row.text for row in seccion_raw]\n",
    "print(len(seccion))\n",
    "# seccion[0]\n",
    "# print(nombre_iniciativa)"
   ]
  },
  {
   "cell_type": "code",
   "execution_count": 34,
   "metadata": {
    "colab": {
     "base_uri": "https://localhost:8080/"
    },
    "gradient": {
     "editing": false,
     "id": "4b344511-e7cc-45a5-895d-a201a8070e39",
     "kernelId": ""
    },
    "id": "4M34mfrXaVuj",
    "outputId": "a973f5a6-6cc7-4727-9d40-7337faa2bbfc"
   },
   "outputs": [],
   "source": [
    "import re\n",
    "\n",
    "\n",
    "apoyos_html = soup.select('div.card > div:nth-of-type(3)')\n",
    "\n",
    "conteo_apoyos_raw = [str(valor.text) for valor in apoyos_html]\n",
    "# print(conteo_apoyos_raw)\n",
    "# print(len(conteo_apoyos_raw))\n",
    "\n",
    "# for idx, val in enumerate(conteo_apoyos_raw):\n",
    "#     print(idx, val)\n",
    "\n",
    "conteo_apoyos_unflatened = []\n",
    "conteo_apoyos_unflatened += (re.findall(r'([0-9]+\\.?[0-9]*|\\.[0-9]+)', item_apoyo) for item_apoyo in conteo_apoyos_raw)\n",
    "\n",
    "conteo_apoyos_flattened = [val for sublist in conteo_apoyos_unflatened for val in sublist]\n",
    "\n",
    "# for item_apoyo in list_apoyos:\n",
    "#   if item_apoyo == re.findall(r'\\d\\.?\\d?\\K?', item_apoyo)\n",
    "#     print(item_apoyo)\n",
    "\n",
    "# for item_apoyo in list_apoyos:\n",
    "#   conteo_apoyos_unflatened += re.findall(r'\\d+\\w+', item_apoyo)\n",
    "\n",
    "\n",
    "\n",
    "# for idx, val in enumerate(conteo_apoyos_unflatened):\n",
    "#     print(idx, val)\n",
    "\n",
    "# print(conteo_apoyos_flattened)\n",
    "# print(len(conteo_apoyos_flattened))\n",
    "# print(type(conteo_apoyos_flattened))\n"
   ]
  },
  {
   "cell_type": "code",
   "execution_count": 35,
   "metadata": {
    "colab": {
     "base_uri": "https://localhost:8080/"
    },
    "gradient": {
     "editing": false,
     "id": "47485bcb-1a59-40e2-8c49-35da383ea3f7",
     "kernelId": ""
    },
    "id": "kWOE9kpJBYAp",
    "outputId": "a313b07f-2dec-41fa-9817-c687de46cf5c"
   },
   "outputs": [
    {
     "name": "stdout",
     "output_type": "stream",
     "text": [
      "<class 'list'>\n"
     ]
    }
   ],
   "source": [
    "multiplier = []\n",
    "\n",
    "# print(conteo_apoyos_raw)\n",
    "\n",
    "for conteo_raw in conteo_apoyos_raw:\n",
    "  if re.findall(r'\\d+K', conteo_raw):\n",
    "    multiplier += \"T\"\n",
    "  else:\n",
    "    multiplier += \"F\"\n",
    "\n",
    "# print(multiplier)\n",
    "len(multiplier)\n",
    "print(type(multiplier))"
   ]
  },
  {
   "cell_type": "code",
   "execution_count": 36,
   "metadata": {
    "colab": {
     "base_uri": "https://localhost:8080/",
     "height": 493
    },
    "gradient": {
     "editing": false,
     "id": "8628dd8d-006b-4938-8181-8532655d2708",
     "kernelId": ""
    },
    "id": "Jri96-XOgavI",
    "outputId": "e704d6fa-cf22-40c0-92b9-161ce3e98db7"
   },
   "outputs": [
    {
     "name": "stdout",
     "output_type": "stream",
     "text": [
      "0        67.0\n",
      "1        36.0\n",
      "2         9.0\n",
      "3        51.0\n",
      "4         6.0\n",
      "        ...  \n",
      "2490      9.2\n",
      "2491     18.0\n",
      "2492    136.0\n",
      "2493    401.0\n",
      "2494     69.0\n",
      "Name: Apoyos, Length: 2495, dtype: float64\n"
     ]
    },
    {
     "data": {
      "text/html": [
       "<div>\n",
       "<style scoped>\n",
       "    .dataframe tbody tr th:only-of-type {\n",
       "        vertical-align: middle;\n",
       "    }\n",
       "\n",
       "    .dataframe tbody tr th {\n",
       "        vertical-align: top;\n",
       "    }\n",
       "\n",
       "    .dataframe thead th {\n",
       "        text-align: right;\n",
       "    }\n",
       "</style>\n",
       "<table border=\"1\" class=\"dataframe\">\n",
       "  <thead>\n",
       "    <tr style=\"text-align: right;\">\n",
       "      <th></th>\n",
       "      <th>Nombre</th>\n",
       "      <th>Apoyos</th>\n",
       "      <th>Multiplicador</th>\n",
       "      <th>Autor</th>\n",
       "      <th>Seccion</th>\n",
       "    </tr>\n",
       "  </thead>\n",
       "  <tbody>\n",
       "    <tr>\n",
       "      <th>2361</th>\n",
       "      <td>Con mi plata no - defiende tus ahorros previsi...</td>\n",
       "      <td>44000.0</td>\n",
       "      <td>T</td>\n",
       "      <td>Por Con Mi Plata NO</td>\n",
       "      <td>CON MI PLATA NO - DEFIENDE TUS AHORROS PREVISI...</td>\n",
       "    </tr>\n",
       "    <tr>\n",
       "      <th>1332</th>\n",
       "      <td>Cannabis a la constitución ahora: por el derec...</td>\n",
       "      <td>38000.0</td>\n",
       "      <td>T</td>\n",
       "      <td>Por Activismo Cannábico Chile</td>\n",
       "      <td>Cannabis a la Constitución Ahora: Por el derec...</td>\n",
       "    </tr>\n",
       "    <tr>\n",
       "      <th>2458</th>\n",
       "      <td>Libre derecho sobre la propiedad privada</td>\n",
       "      <td>35000.0</td>\n",
       "      <td>T</td>\n",
       "      <td>Por María Chacón W.</td>\n",
       "      <td>Libre derecho sobre la propiedad privada</td>\n",
       "    </tr>\n",
       "    <tr>\n",
       "      <th>2252</th>\n",
       "      <td>Será ley</td>\n",
       "      <td>29000.0</td>\n",
       "      <td>T</td>\n",
       "      <td>Por Asamblea Permanente por la Legalización de...</td>\n",
       "      <td>Será Ley</td>\n",
       "    </tr>\n",
       "    <tr>\n",
       "      <th>1788</th>\n",
       "      <td>Banco central autónomo</td>\n",
       "      <td>25000.0</td>\n",
       "      <td>T</td>\n",
       "      <td>Por Banco Central Autónomo</td>\n",
       "      <td>Banco Central Autónomo</td>\n",
       "    </tr>\n",
       "  </tbody>\n",
       "</table>\n",
       "</div>"
      ],
      "text/plain": [
       "                                                 Nombre   Apoyos  \\\n",
       "2361  Con mi plata no - defiende tus ahorros previsi...  44000.0   \n",
       "1332  Cannabis a la constitución ahora: por el derec...  38000.0   \n",
       "2458          Libre derecho sobre la propiedad privada   35000.0   \n",
       "2252                                           Será ley  29000.0   \n",
       "1788                            Banco central autónomo   25000.0   \n",
       "\n",
       "     Multiplicador                                              Autor  \\\n",
       "2361             T                                Por Con Mi Plata NO   \n",
       "1332             T                      Por Activismo Cannábico Chile   \n",
       "2458             T                                Por María Chacón W.   \n",
       "2252             T  Por Asamblea Permanente por la Legalización de...   \n",
       "1788             T                         Por Banco Central Autónomo   \n",
       "\n",
       "                                                Seccion  \n",
       "2361  CON MI PLATA NO - DEFIENDE TUS AHORROS PREVISI...  \n",
       "1332  Cannabis a la Constitución Ahora: Por el derec...  \n",
       "2458          Libre derecho sobre la propiedad privada   \n",
       "2252                                           Será Ley  \n",
       "1788                            Banco Central Autónomo   "
      ]
     },
     "execution_count": 36,
     "metadata": {},
     "output_type": "execute_result"
    }
   ],
   "source": [
    "import pandas as pd\n",
    "import numpy as np\n",
    "\n",
    "df = pd.DataFrame(\n",
    "          {\n",
    "              'Nombre': nombre_iniciativa,\n",
    "              'Apoyos': conteo_apoyos_flattened,\n",
    "              'Multiplicador': multiplier,\n",
    "              'Autor': nombre_autor,\n",
    "              'Seccion' : seccion\n",
    "          }\n",
    "\n",
    "    )\n",
    "\n",
    "\n",
    "df = df.astype({\"Apoyos\": float})\n",
    "\n",
    "\n",
    "\n",
    "# for data in df[1]:\n",
    "#   print(data)\n",
    "# pd.to_numeric(df[conteo_apoyos_flattened])\n",
    "\n",
    "# if df[\"Multiplicador\"] == \"T\":\n",
    "#   df[\"Conteo Apoyos\"].apply(x * 1000)\n",
    "\n",
    "\n",
    "# print(df)\n",
    "# df.shape\n",
    "# len(df)\n",
    "# print(df.head(4))\n",
    "# df.info()\n",
    "# df.columns\n",
    "# print(df.loc[:,'Multiplicador'])\n",
    "print(df['Apoyos'])\n",
    "df['Apoyos'] = np.where((df.Multiplicador == 'T'), (1000 * df.Apoyos) ,df.Apoyos)\n",
    "type(df['Apoyos'])\n",
    "df_sorted = df.sort_values('Apoyos',  ascending=False)\n",
    "df_slice = df_sorted[:50]\n",
    "df_slice.head()"
   ]
  },
  {
   "cell_type": "code",
   "execution_count": 37,
   "metadata": {
    "colab": {
     "base_uri": "https://localhost:8080/",
     "height": 509
    },
    "gradient": {
     "editing": false,
     "id": "0baed91e-4426-43e4-999c-cc23f8457338",
     "kernelId": ""
    },
    "id": "nrtaTfxKJyNt",
    "outputId": "1025d85e-9eb0-4f95-a673-f66ba49a76ed"
   },
   "outputs": [],
   "source": [
    "# import matplotlib.pyplot as plt\n",
    "# import seaborn as sns\n",
    "\n",
    "# plt.rcParams.update({'font.size': 26})\n",
    "# fig = plt.figure(figsize=(10, 22), dpi=80)\n",
    "# ax = fig.add_axes([0,0,1,1])\n",
    "\n",
    "# # Invert axis\n",
    "# plt.gca().invert_yaxis()\n",
    "\n",
    "# ax.barh(df_slice['Nombre'],df_slice['Apoyos'])\n",
    "# plt.style.use('ggplot')\n",
    "# plt.title('Top 20 Iniciativas Populares', loc ='left', fontsize=32)\n",
    "# plt.ylabel('Inicitiva')\n",
    "# plt.xlabel('Numero de Apoyos (miles)')\n",
    "\n",
    "# # Add Text watermark\n",
    "# fig.text(0.5, 0.1, 'by e-trolls', fontsize = 40, color ='green', ha ='center', va ='center', alpha = 0.6, rotation='0')\n",
    "\n",
    "# plt.show(fig)\n",
    "\n",
    "# plt.savefig('foo.png')"
   ]
  },
  {
   "cell_type": "code",
   "execution_count": 38,
   "metadata": {
    "gradient": {
     "editing": false,
     "id": "8991abb8-c9a5-4ce5-ade1-b58ac890f970",
     "kernelId": "",
     "source_hidden": false
    },
    "jupyter": {
     "outputs_hidden": false
    }
   },
   "outputs": [],
   "source": [
    "# import base64\n",
    "# from io import BytesIO\n",
    "\n",
    "# tmpfile = BytesIO()\n",
    "# fig.savefig(tmpfile, format='png')\n",
    "# encoded = base64.b64encode(tmpfile.getvalue()).decode('utf-8')\n",
    "# # encoded = base64.b64encode(tmpfile.getvalue()).decode('utf-8') <img src='data:image/png;base64,{{}}'>\n",
    "\n",
    "# html = 'Some html head' + '<img src=\\'data:image/png;base64,{}\\'>'.format(encoded) + 'Some more html'\n",
    "\n",
    "# with open('test.html','w') as f:\n",
    "#    f.write(html)"
   ]
  },
  {
   "cell_type": "code",
   "execution_count": 73,
   "metadata": {
    "gradient": {
     "editing": false,
     "id": "ffaf4664-1fb0-4521-b967-868fd6f72bc2",
     "kernelId": "",
     "source_hidden": false
    },
    "jupyter": {
     "outputs_hidden": false
    }
   },
   "outputs": [
    {
     "data": {
      "application/vnd.plotly.v1+json": {
       "config": {
        "plotlyServerURL": "https://plot.ly"
       },
       "data": [
        {
         "alignmentgroup": "True",
         "customdata": [
          [
           "Por Con Mi Plata NO",
           "CON MI PLATA NO - DEFIENDE TUS AHORROS PREVISIONALES "
          ],
          [
           "Por Activismo Cannábico Chile",
           "Cannabis a la Constitución Ahora: Por el derecho al libre desarrollo de la personalidad, la soberanía personal y el bienestar"
          ],
          [
           "Por María Chacón W.",
           "Libre derecho sobre la propiedad privada "
          ],
          [
           "Por Asamblea Permanente por la Legalización del Aborto",
           "Será Ley"
          ],
          [
           "Por Banco Central Autónomo",
           "Banco Central Autónomo "
          ],
          [
           "Por Siempre por la Vida",
           "Derecho a la vida"
          ],
          [
           "Por Confesiones religiosas en Chile",
           "Confesiones religiosas quieren contribuir con la CC: proponen texto sobre la Libertad Religiosa y de conciencia en nueva Constitución"
          ],
          [
           "Por primero las victimas",
           "PRIMERO LAS VICTIMAS"
          ],
          [
           "Por Acción Educar",
           "Derecho a la Educación, Derecho y Deber Preferente de los Padres, y Libertad de Enseñanza"
          ],
          [
           "Por Educación Libre y Diversa",
           "Iniciativa Popular por una Educación Libre y Diversa "
          ],
          [
           "Por Comité de Defensa y recuperación del Cobre",
           "Nacionalización de las Empresas de la Gran Minería del cobre, del litio y del oro"
          ],
          [
           "Por Articulación por las Aguas, los Derechos de la Naturaleza y los Glaciares.",
           "Por el Agua, los Derechos de la Naturaleza y los Glaciares"
          ],
          [
           "Por Fundación Vegetarianos Hoy",
           "#NoSonMuebles - Incorporación de los Animales en la Constitución"
          ],
          [
           "Por Coordinadora Nacional de Trabajadoras y Trabajadores NO+AFP",
           "El Derecho a la Seguridad Social"
          ],
          [
           "Por Luisa Concha C.",
           "Pobladoras y pobladores por el derecho a la vivienda digna"
          ],
          [
           "Por Articulación de organizaciones educativas por el derecho a la educación",
           "POR EL DERECHO A LA EDUCACIÓN. CONSTRUYENDO UN SISTEMA PLURINACIONAL DE EDUCACIÓN PÚBLICA ESTATAL-COMUNITARIA "
          ],
          [
           "Por Alianza por los Derechos Animales",
           "Sujetos, No Objetos "
          ],
          [
           "Por Jorge Astudillo M.",
           "INHABILIDAD PARA EJERCER CARGOS PÚBLICOS PARA PERSONAS CONDENADAS POR CORRUPCIÓN"
          ],
          [
           "Por REDOFEM (Red Docente Feminista)",
           "Una Educación Feminista para Chile: Laica, pública y no sexista"
          ],
          [
           "Por Organizaciones de Hinchas de la U",
           "Derecho a ser Club y ser Hincha "
          ],
          [
           "Por Central Unitaria  de Trabajadores",
           "Una Constitución Política para las y los trabajadores de Chile"
          ],
          [
           "Por Cristian Andrés Jara Lizama",
           "Salud mental Gratuita y de Calidad como derecho."
          ],
          [
           "Por Daniel Pantoja B.",
           "Nuevas Regiones de Chiloé y Aconcagua"
          ],
          [
           "Por Cabildo \"Salud, un Derecho\"",
           "Sistema Único de Salud, Universal, Plurinacional e Integrado para el nuevo Chile que estamos construyendo democráticamente"
          ],
          [
           "Por Andrea Iturry Y.",
           "Los primeros mil días: por el derecho a la protección de la primera infancia, la maternidad y la co-parentalidad"
          ],
          [
           "Por soy del campo",
           "PROTECCOIN DE LOS ANIMALES. RECONOCIMIENTO DE LA SINTIENCIA Y RESPETO DE LAS CULTURAS RURALES, TRIBAL AFRODECENDIENTES Y PUEBLOS ORIGINARIOS"
          ],
          [
           "Por Comité de Ciudadanos por la Dignidad de los Bomberos de Chile",
           "NORMATIVA POR EL RESPETO Y LA DIGNIDAD A LOS BOMBEROS(AS) DE CHILE "
          ],
          [
           "Por La Libre y Sustentable República de Chile, SacaLaVoz",
           "PROTECCIÓN DEL MEDIO AMBIENTE, CAMBIO CLIMATICO Y FIN A ZONAS DE SACRIFICIO"
          ],
          [
           "Por Fundación TEAmoMas",
           "Derecho de toda persona autista a recibir terapias. El Estado debe de garantizar su acceso continuo en el sector publico y privado "
          ],
          [
           "Por ASOCIACION DE CRIADORES DE CABALLOS DE PURA RAZA CHILENA DE ÑUBLE",
           "MAPA DE LAS TRADICIONES DE CHILE "
          ],
          [
           "Por Nos Importan",
           "Por unas Fuerzas Armadas y de Orden que sean el orgullo de todos chilenos y garanticen la democracia, la seguridad nacional y la defensa de la patria."
          ],
          [
           "Por COMPROMISO CON LA NIÑEZ",
           "DERECHOS DE NIÑOS, NIÑAS Y ADOLESCENTES RECONOCIDOS Y CONSAGRADOS EN LA NUEVA CONSTITUCIÓN POLÍTICA DE LA REPÚBLICA"
          ],
          [
           "Por Eduardo Waghorn H.",
           "Consentimiento médico informado. Aceptar o rechazar un determinado tratamiento médico o vacunación debe ser una opción libre e individual."
          ],
          [
           "Por Zonas de Resistencia Medioambiental",
           "TRANSFORMACIÓN DE ZONAS DE SACRIFICIO A ZONAS DE RESTAURACIÓN AMBIENTAL"
          ],
          [
           "Por Consorcio de Universidades del Estado de Chile",
           "Derecho a la educación: pública, gratuita, laica y de calidad"
          ],
          [
           "Por Compromiso Minero",
           "POR UNA MINERÍA SUSTENTABLE PARA CHILE: COMPROMETIDA CON SUS HABITANTES, SUS TERRITORIOS, EL MEDIO AMBIENTE Y LOS DESAFÍOS DEL CAMBIO CLIMÁTICO"
          ],
          [
           "Por María Covarrubias C.",
           "Mi propuesta para que tu libertad de pensamiento, conciencia y religión quede bien protegida en la nueva constitución"
          ],
          [
           "Por Articulación de organizaciones feministas y de disidencias sexo genéricas",
           "#IniciativaPopularFeminista por una vida libre de violencia para mujeres, niñeces, diversidades y disidencias sexo genéricas"
          ],
          [
           "Por Colectivo Nacional por la Discapacidad",
           "Reconocimiento Constitucional para las Personas con Discapacidad"
          ],
          [
           "Por Confederación Fenpruss",
           "Fenpruss y el Derecho a la Salud"
          ],
          [
           "Por Acción Colectiva por la Educación",
           "Por una educación integral, de calidad, inclusiva, equitativa y gratuita"
          ],
          [
           "Por Sociedad Civil por la Acción Climática (SCAC)",
           "Una Constitución Ecológica para enfrentar la crisis climática "
          ],
          [
           "Por Cristian Vivian T.",
           "Es mi plata y punto."
          ],
          [
           "Por Sociedad de Fomento Fabril F.G. (SOFOFA)",
           "Emprende Libre"
          ],
          [
           "Por Daniel Vargas Downing",
           "Iniciativa Popular de Norma por la Libertad de los presos políticos de la rebelión"
          ],
          [
           "Por Multigremial Nacional de Emprendedores",
           "Modelo económico, libertad de Emprender y fomento de Mipymes "
          ],
          [
           "Por La Libre y Sustentable República de Chile, SacaLaVoz",
           "REPÚBLICA Y DEFENSA DE NUESTRA BANDERA, TRADICIONES, HIMNO"
          ],
          [
           "Por SmartSIti",
           "SmartSíty: Digamos Sí,  a las ciudades inteligentes en la nueva Constitución. "
          ],
          [
           "Por D.U.R.A.S.",
           "Reconocimiento de comunidades y diversas formas de familia"
          ],
          [
           "Por Asociación Internacional para la Libertad Religiosa",
           "POR UNA LIBERTAD DE CONCIENCIA Y RELIGIOSA COMO UN DERECHO HUMANO FUNDAMENTAL EN UNA SOCIEDAD DEMOCRATICA, PLURALISTA Y DIVERSA."
          ]
         ],
         "hovertemplate": "Apoyos=%{text}<br>Nombre=%{y}<br>Autor=%{customdata[0]}<br>Seccion=%{customdata[1]}<extra></extra>",
         "legendgroup": "",
         "marker": {
          "color": "#636efa",
          "pattern": {
           "shape": ""
          }
         },
         "name": "",
         "offsetgroup": "",
         "orientation": "h",
         "showlegend": false,
         "text": [
          "44000.0",
          "38000.0",
          "35000.0",
          "29000.0",
          "25000.0",
          "23000.0",
          "23000.0",
          "22000.0",
          "21000.0",
          "21000.0",
          "19000.0",
          "19000.0",
          "18000.0",
          "18000.0",
          "18000.0",
          "17000.0",
          "16000.0",
          "16000.0",
          "16000.0",
          "15000.0",
          "15000.0",
          "15000.0",
          "15000.0",
          "15000.0",
          "15000.0",
          "15000.0",
          "14000.0",
          "13000.0",
          "12000.0",
          "12000.0",
          "12000.0",
          "11000.0",
          "11000.0",
          "11000.0",
          "10000.0",
          "10000.0",
          "9200.0",
          "8900.0",
          "8700.0",
          "8200.0",
          "8100.0",
          "8100.0",
          "7900.0",
          "7300.0",
          "7300.0",
          "7100.0",
          "6700.0",
          "6100.0",
          "5800.0",
          "5700.0"
         ],
         "textposition": "outside",
         "texttemplate": "%{text:.2s}",
         "type": "bar",
         "x": [
          44000,
          38000,
          35000,
          29000,
          25000,
          23000,
          23000,
          22000,
          21000,
          21000,
          19000,
          19000,
          18000,
          18000,
          18000,
          17000,
          16000,
          16000,
          16000,
          15000,
          15000,
          15000,
          15000,
          15000,
          15000,
          15000,
          14000,
          13000,
          12000,
          12000,
          12000,
          11000,
          11000,
          11000,
          10000,
          10000,
          9200,
          8900,
          8700,
          8200,
          8100,
          8100,
          7900,
          7300,
          7300,
          7100,
          6700,
          6100,
          5800,
          5700
         ],
         "xaxis": "x",
         "y": [
          "Con mi plata no - defiende tus ahorros previsionales ",
          "Cannabis a la constitución ahora: por el derecho al libre desarrollo de la personalidad, la soberanía personal y el bienestar",
          "Libre derecho sobre la propiedad privada ",
          "Será ley",
          "Banco central autónomo ",
          "Derecho a la vida",
          "Confesiones religiosas quieren contribuir con la cc: proponen texto sobre la libertad religiosa y de conciencia en nueva constitución",
          "Primero las victimas",
          "Derecho a la educación, derecho y deber preferente de los padres, y libertad de enseñanza",
          "Iniciativa popular por una educación libre y diversa ",
          "Nacionalización de las empresas de la gran minería del cobre, del litio y del oro",
          "Por el agua, los derechos de la naturaleza y los glaciares",
          "#nosonmuebles - incorporación de los animales en la constitución",
          "El derecho a la seguridad social",
          "pobladoras y pobladores por el derecho a la vivienda digna",
          "Por el derecho a la educación. construyendo un sistema plurinacional de educación pública estatal-comunitaria ",
          "Sujetos, no objetos ",
          "Inhabilidad para ejercer cargos públicos para personas condenadas por corrupción",
          "Una educación feminista para chile: laica, pública y no sexista",
          "Derecho a ser club y ser hincha ",
          "Una constitución política para las y los trabajadores de chile",
          "Salud mental gratuita y de calidad como derecho.",
          "Nuevas regiones de chiloé y aconcagua",
          "Sistema único de salud, universal, plurinacional e integrado para el nuevo chile que estamos construyendo democráticamente",
          "los primeros mil días: por el derecho a la protección de la primera infancia, la maternidad y la co-parentalidad",
          "Proteccoin de los animales. reconocimiento de la sintiencia y respeto de las culturas rurales, tribal afrodecendientes y pueblos originarios",
          "Normativa por el respeto y la dignidad a los bomberos(as) de chile ",
          "Protección del medio ambiente, cambio climatico y fin a zonas de sacrificio",
          "Derecho de toda persona autista a recibir terapias. el estado debe de garantizar su acceso continuo en el sector publico y privado ",
          "Mapa de las tradiciones de chile ",
          "Por unas fuerzas armadas y de orden que sean el orgullo de todos chilenos y garanticen la democracia, la seguridad nacional y la defensa de la patria.",
          "Derechos de niños, niñas y adolescentes reconocidos y consagrados en la nueva constitución política de la república",
          "Consentimiento médico informado. aceptar o rechazar un determinado tratamiento médico o vacunación debe ser una opción libre e individual.",
          "Transformación de zonas de sacrificio a zonas de restauración ambiental",
          "Derecho a la educación: pública, gratuita, laica y de calidad",
          "Por una minería sustentable para chile: comprometida con sus habitantes, sus territorios, el medio ambiente y los desafíos del cambio climático",
          "Mi propuesta para que tu libertad de pensamiento, conciencia y religión quede bien protegida en la nueva constitución",
          "#iniciativapopularfeminista por una vida libre de violencia para mujeres, niñeces, diversidades y disidencias sexo genéricas",
          "Reconocimiento constitucional para las personas con discapacidad",
          "Fenpruss y el derecho a la salud",
          "Por una educación integral, de calidad, inclusiva, equitativa y gratuita",
          "Una constitución ecológica para enfrentar la crisis climática ",
          "Es mi plata y punto.",
          "Emprende libre",
          "Iniciativa popular de norma por la libertad de los presos políticos de la rebelión",
          "Modelo económico, libertad de emprender y fomento de mipymes ",
          "República y defensa de nuestra bandera, tradiciones, himno",
          "Smartsíty: digamos sí,  a las ciudades inteligentes en la nueva constitución. ",
          "Reconocimiento de comunidades y diversas formas de familia",
          "Por una libertad de conciencia y religiosa como un derecho humano fundamental en una sociedad democratica, pluralista y diversa."
         ],
         "yaxis": "y"
        }
       ],
       "layout": {
        "barmode": "relative",
        "font": {
         "color": "RebeccaPurple",
         "family": "Times New Roman",
         "size": 12
        },
        "height": 1000,
        "legend": {
         "tracegroupgap": 0
        },
        "shapes": [
         {
          "line": {
           "color": "red",
           "dash": "dash",
           "width": 1
          },
          "type": "rect",
          "x0": 15000,
          "x1": 15000,
          "xref": "x",
          "y0": 0,
          "y1": 1,
          "yref": "y domain"
         }
        ],
        "template": {
         "data": {
          "bar": [
           {
            "error_x": {
             "color": "#2a3f5f"
            },
            "error_y": {
             "color": "#2a3f5f"
            },
            "marker": {
             "line": {
              "color": "#E5ECF6",
              "width": 0.5
             },
             "pattern": {
              "fillmode": "overlay",
              "size": 10,
              "solidity": 0.2
             }
            },
            "type": "bar"
           }
          ],
          "barpolar": [
           {
            "marker": {
             "line": {
              "color": "#E5ECF6",
              "width": 0.5
             },
             "pattern": {
              "fillmode": "overlay",
              "size": 10,
              "solidity": 0.2
             }
            },
            "type": "barpolar"
           }
          ],
          "carpet": [
           {
            "aaxis": {
             "endlinecolor": "#2a3f5f",
             "gridcolor": "white",
             "linecolor": "white",
             "minorgridcolor": "white",
             "startlinecolor": "#2a3f5f"
            },
            "baxis": {
             "endlinecolor": "#2a3f5f",
             "gridcolor": "white",
             "linecolor": "white",
             "minorgridcolor": "white",
             "startlinecolor": "#2a3f5f"
            },
            "type": "carpet"
           }
          ],
          "choropleth": [
           {
            "colorbar": {
             "outlinewidth": 0,
             "ticks": ""
            },
            "type": "choropleth"
           }
          ],
          "contour": [
           {
            "colorbar": {
             "outlinewidth": 0,
             "ticks": ""
            },
            "colorscale": [
             [
              0,
              "#0d0887"
             ],
             [
              0.1111111111111111,
              "#46039f"
             ],
             [
              0.2222222222222222,
              "#7201a8"
             ],
             [
              0.3333333333333333,
              "#9c179e"
             ],
             [
              0.4444444444444444,
              "#bd3786"
             ],
             [
              0.5555555555555556,
              "#d8576b"
             ],
             [
              0.6666666666666666,
              "#ed7953"
             ],
             [
              0.7777777777777778,
              "#fb9f3a"
             ],
             [
              0.8888888888888888,
              "#fdca26"
             ],
             [
              1,
              "#f0f921"
             ]
            ],
            "type": "contour"
           }
          ],
          "contourcarpet": [
           {
            "colorbar": {
             "outlinewidth": 0,
             "ticks": ""
            },
            "type": "contourcarpet"
           }
          ],
          "heatmap": [
           {
            "colorbar": {
             "outlinewidth": 0,
             "ticks": ""
            },
            "colorscale": [
             [
              0,
              "#0d0887"
             ],
             [
              0.1111111111111111,
              "#46039f"
             ],
             [
              0.2222222222222222,
              "#7201a8"
             ],
             [
              0.3333333333333333,
              "#9c179e"
             ],
             [
              0.4444444444444444,
              "#bd3786"
             ],
             [
              0.5555555555555556,
              "#d8576b"
             ],
             [
              0.6666666666666666,
              "#ed7953"
             ],
             [
              0.7777777777777778,
              "#fb9f3a"
             ],
             [
              0.8888888888888888,
              "#fdca26"
             ],
             [
              1,
              "#f0f921"
             ]
            ],
            "type": "heatmap"
           }
          ],
          "heatmapgl": [
           {
            "colorbar": {
             "outlinewidth": 0,
             "ticks": ""
            },
            "colorscale": [
             [
              0,
              "#0d0887"
             ],
             [
              0.1111111111111111,
              "#46039f"
             ],
             [
              0.2222222222222222,
              "#7201a8"
             ],
             [
              0.3333333333333333,
              "#9c179e"
             ],
             [
              0.4444444444444444,
              "#bd3786"
             ],
             [
              0.5555555555555556,
              "#d8576b"
             ],
             [
              0.6666666666666666,
              "#ed7953"
             ],
             [
              0.7777777777777778,
              "#fb9f3a"
             ],
             [
              0.8888888888888888,
              "#fdca26"
             ],
             [
              1,
              "#f0f921"
             ]
            ],
            "type": "heatmapgl"
           }
          ],
          "histogram": [
           {
            "marker": {
             "pattern": {
              "fillmode": "overlay",
              "size": 10,
              "solidity": 0.2
             }
            },
            "type": "histogram"
           }
          ],
          "histogram2d": [
           {
            "colorbar": {
             "outlinewidth": 0,
             "ticks": ""
            },
            "colorscale": [
             [
              0,
              "#0d0887"
             ],
             [
              0.1111111111111111,
              "#46039f"
             ],
             [
              0.2222222222222222,
              "#7201a8"
             ],
             [
              0.3333333333333333,
              "#9c179e"
             ],
             [
              0.4444444444444444,
              "#bd3786"
             ],
             [
              0.5555555555555556,
              "#d8576b"
             ],
             [
              0.6666666666666666,
              "#ed7953"
             ],
             [
              0.7777777777777778,
              "#fb9f3a"
             ],
             [
              0.8888888888888888,
              "#fdca26"
             ],
             [
              1,
              "#f0f921"
             ]
            ],
            "type": "histogram2d"
           }
          ],
          "histogram2dcontour": [
           {
            "colorbar": {
             "outlinewidth": 0,
             "ticks": ""
            },
            "colorscale": [
             [
              0,
              "#0d0887"
             ],
             [
              0.1111111111111111,
              "#46039f"
             ],
             [
              0.2222222222222222,
              "#7201a8"
             ],
             [
              0.3333333333333333,
              "#9c179e"
             ],
             [
              0.4444444444444444,
              "#bd3786"
             ],
             [
              0.5555555555555556,
              "#d8576b"
             ],
             [
              0.6666666666666666,
              "#ed7953"
             ],
             [
              0.7777777777777778,
              "#fb9f3a"
             ],
             [
              0.8888888888888888,
              "#fdca26"
             ],
             [
              1,
              "#f0f921"
             ]
            ],
            "type": "histogram2dcontour"
           }
          ],
          "mesh3d": [
           {
            "colorbar": {
             "outlinewidth": 0,
             "ticks": ""
            },
            "type": "mesh3d"
           }
          ],
          "parcoords": [
           {
            "line": {
             "colorbar": {
              "outlinewidth": 0,
              "ticks": ""
             }
            },
            "type": "parcoords"
           }
          ],
          "pie": [
           {
            "automargin": true,
            "type": "pie"
           }
          ],
          "scatter": [
           {
            "marker": {
             "colorbar": {
              "outlinewidth": 0,
              "ticks": ""
             }
            },
            "type": "scatter"
           }
          ],
          "scatter3d": [
           {
            "line": {
             "colorbar": {
              "outlinewidth": 0,
              "ticks": ""
             }
            },
            "marker": {
             "colorbar": {
              "outlinewidth": 0,
              "ticks": ""
             }
            },
            "type": "scatter3d"
           }
          ],
          "scattercarpet": [
           {
            "marker": {
             "colorbar": {
              "outlinewidth": 0,
              "ticks": ""
             }
            },
            "type": "scattercarpet"
           }
          ],
          "scattergeo": [
           {
            "marker": {
             "colorbar": {
              "outlinewidth": 0,
              "ticks": ""
             }
            },
            "type": "scattergeo"
           }
          ],
          "scattergl": [
           {
            "marker": {
             "colorbar": {
              "outlinewidth": 0,
              "ticks": ""
             }
            },
            "type": "scattergl"
           }
          ],
          "scattermapbox": [
           {
            "marker": {
             "colorbar": {
              "outlinewidth": 0,
              "ticks": ""
             }
            },
            "type": "scattermapbox"
           }
          ],
          "scatterpolar": [
           {
            "marker": {
             "colorbar": {
              "outlinewidth": 0,
              "ticks": ""
             }
            },
            "type": "scatterpolar"
           }
          ],
          "scatterpolargl": [
           {
            "marker": {
             "colorbar": {
              "outlinewidth": 0,
              "ticks": ""
             }
            },
            "type": "scatterpolargl"
           }
          ],
          "scatterternary": [
           {
            "marker": {
             "colorbar": {
              "outlinewidth": 0,
              "ticks": ""
             }
            },
            "type": "scatterternary"
           }
          ],
          "surface": [
           {
            "colorbar": {
             "outlinewidth": 0,
             "ticks": ""
            },
            "colorscale": [
             [
              0,
              "#0d0887"
             ],
             [
              0.1111111111111111,
              "#46039f"
             ],
             [
              0.2222222222222222,
              "#7201a8"
             ],
             [
              0.3333333333333333,
              "#9c179e"
             ],
             [
              0.4444444444444444,
              "#bd3786"
             ],
             [
              0.5555555555555556,
              "#d8576b"
             ],
             [
              0.6666666666666666,
              "#ed7953"
             ],
             [
              0.7777777777777778,
              "#fb9f3a"
             ],
             [
              0.8888888888888888,
              "#fdca26"
             ],
             [
              1,
              "#f0f921"
             ]
            ],
            "type": "surface"
           }
          ],
          "table": [
           {
            "cells": {
             "fill": {
              "color": "#EBF0F8"
             },
             "line": {
              "color": "white"
             }
            },
            "header": {
             "fill": {
              "color": "#C8D4E3"
             },
             "line": {
              "color": "white"
             }
            },
            "type": "table"
           }
          ]
         },
         "layout": {
          "annotationdefaults": {
           "arrowcolor": "#2a3f5f",
           "arrowhead": 0,
           "arrowwidth": 1
          },
          "autotypenumbers": "strict",
          "coloraxis": {
           "colorbar": {
            "outlinewidth": 0,
            "ticks": ""
           }
          },
          "colorscale": {
           "diverging": [
            [
             0,
             "#8e0152"
            ],
            [
             0.1,
             "#c51b7d"
            ],
            [
             0.2,
             "#de77ae"
            ],
            [
             0.3,
             "#f1b6da"
            ],
            [
             0.4,
             "#fde0ef"
            ],
            [
             0.5,
             "#f7f7f7"
            ],
            [
             0.6,
             "#e6f5d0"
            ],
            [
             0.7,
             "#b8e186"
            ],
            [
             0.8,
             "#7fbc41"
            ],
            [
             0.9,
             "#4d9221"
            ],
            [
             1,
             "#276419"
            ]
           ],
           "sequential": [
            [
             0,
             "#0d0887"
            ],
            [
             0.1111111111111111,
             "#46039f"
            ],
            [
             0.2222222222222222,
             "#7201a8"
            ],
            [
             0.3333333333333333,
             "#9c179e"
            ],
            [
             0.4444444444444444,
             "#bd3786"
            ],
            [
             0.5555555555555556,
             "#d8576b"
            ],
            [
             0.6666666666666666,
             "#ed7953"
            ],
            [
             0.7777777777777778,
             "#fb9f3a"
            ],
            [
             0.8888888888888888,
             "#fdca26"
            ],
            [
             1,
             "#f0f921"
            ]
           ],
           "sequentialminus": [
            [
             0,
             "#0d0887"
            ],
            [
             0.1111111111111111,
             "#46039f"
            ],
            [
             0.2222222222222222,
             "#7201a8"
            ],
            [
             0.3333333333333333,
             "#9c179e"
            ],
            [
             0.4444444444444444,
             "#bd3786"
            ],
            [
             0.5555555555555556,
             "#d8576b"
            ],
            [
             0.6666666666666666,
             "#ed7953"
            ],
            [
             0.7777777777777778,
             "#fb9f3a"
            ],
            [
             0.8888888888888888,
             "#fdca26"
            ],
            [
             1,
             "#f0f921"
            ]
           ]
          },
          "colorway": [
           "#636efa",
           "#EF553B",
           "#00cc96",
           "#ab63fa",
           "#FFA15A",
           "#19d3f3",
           "#FF6692",
           "#B6E880",
           "#FF97FF",
           "#FECB52"
          ],
          "font": {
           "color": "#2a3f5f"
          },
          "geo": {
           "bgcolor": "white",
           "lakecolor": "white",
           "landcolor": "#E5ECF6",
           "showlakes": true,
           "showland": true,
           "subunitcolor": "white"
          },
          "hoverlabel": {
           "align": "left"
          },
          "hovermode": "closest",
          "mapbox": {
           "style": "light"
          },
          "paper_bgcolor": "white",
          "plot_bgcolor": "#E5ECF6",
          "polar": {
           "angularaxis": {
            "gridcolor": "white",
            "linecolor": "white",
            "ticks": ""
           },
           "bgcolor": "#E5ECF6",
           "radialaxis": {
            "gridcolor": "white",
            "linecolor": "white",
            "ticks": ""
           }
          },
          "scene": {
           "xaxis": {
            "backgroundcolor": "#E5ECF6",
            "gridcolor": "white",
            "gridwidth": 2,
            "linecolor": "white",
            "showbackground": true,
            "ticks": "",
            "zerolinecolor": "white"
           },
           "yaxis": {
            "backgroundcolor": "#E5ECF6",
            "gridcolor": "white",
            "gridwidth": 2,
            "linecolor": "white",
            "showbackground": true,
            "ticks": "",
            "zerolinecolor": "white"
           },
           "zaxis": {
            "backgroundcolor": "#E5ECF6",
            "gridcolor": "white",
            "gridwidth": 2,
            "linecolor": "white",
            "showbackground": true,
            "ticks": "",
            "zerolinecolor": "white"
           }
          },
          "shapedefaults": {
           "line": {
            "color": "#2a3f5f"
           }
          },
          "ternary": {
           "aaxis": {
            "gridcolor": "white",
            "linecolor": "white",
            "ticks": ""
           },
           "baxis": {
            "gridcolor": "white",
            "linecolor": "white",
            "ticks": ""
           },
           "bgcolor": "#E5ECF6",
           "caxis": {
            "gridcolor": "white",
            "linecolor": "white",
            "ticks": ""
           }
          },
          "title": {
           "x": 0.05
          },
          "xaxis": {
           "automargin": true,
           "gridcolor": "white",
           "linecolor": "white",
           "ticks": "",
           "title": {
            "standoff": 15
           },
           "zerolinecolor": "white",
           "zerolinewidth": 2
          },
          "yaxis": {
           "automargin": true,
           "gridcolor": "white",
           "linecolor": "white",
           "ticks": "",
           "title": {
            "standoff": 15
           },
           "zerolinecolor": "white",
           "zerolinewidth": 2
          }
         }
        },
        "title": {
         "font": {
          "color": "grey",
          "family": "Times New Roman"
         },
         "text": "APOYOS A INICIATIVAS POPULARES"
        },
        "width": 1200,
        "xaxis": {
         "anchor": "y",
         "domain": [
          0,
          1
         ],
         "title": {
          "text": "APOYOS (Miles)"
         }
        },
        "yaxis": {
         "anchor": "x",
         "autorange": "reversed",
         "domain": [
          0,
          1
         ],
         "title": {
          "text": "INICIATIVAS"
         }
        }
       }
      },
      "text/html": [
       "<div>                            <div id=\"f505bb8e-2148-4348-9380-51ac8a068d65\" class=\"plotly-graph-div\" style=\"height:1000px; width:1200px;\"></div>            <script type=\"text/javascript\">                require([\"plotly\"], function(Plotly) {                    window.PLOTLYENV=window.PLOTLYENV || {};                                    if (document.getElementById(\"f505bb8e-2148-4348-9380-51ac8a068d65\")) {                    Plotly.newPlot(                        \"f505bb8e-2148-4348-9380-51ac8a068d65\",                        [{\"alignmentgroup\":\"True\",\"customdata\":[[\"Por Con Mi Plata NO\",\"CON MI PLATA NO - DEFIENDE TUS AHORROS PREVISIONALES \"],[\"Por Activismo Cann\\u00e1bico Chile\",\"Cannabis a la Constituci\\u00f3n Ahora: Por el derecho al libre desarrollo de la personalidad, la soberan\\u00eda personal y el bienestar\"],[\"Por Mar\\u00eda Chac\\u00f3n W.\",\"Libre derecho sobre la propiedad privada \"],[\"Por Asamblea Permanente por la Legalizaci\\u00f3n del Aborto\",\"Ser\\u00e1 Ley\"],[\"Por Banco Central Aut\\u00f3nomo\",\"Banco Central Aut\\u00f3nomo \"],[\"Por Siempre por la Vida\",\"Derecho a la vida\"],[\"Por Confesiones religiosas en Chile\",\"Confesiones religiosas quieren contribuir con la CC: proponen texto sobre la Libertad Religiosa y de conciencia en nueva Constituci\\u00f3n\"],[\"Por primero las victimas\",\"PRIMERO LAS VICTIMAS\"],[\"Por Acci\\u00f3n Educar\",\"Derecho a la Educaci\\u00f3n, Derecho y Deber Preferente de los Padres, y Libertad de Ense\\u00f1anza\"],[\"Por Educaci\\u00f3n Libre y Diversa\",\"Iniciativa Popular por una Educaci\\u00f3n Libre y Diversa \"],[\"Por Comit\\u00e9 de Defensa y recuperaci\\u00f3n del Cobre\",\"Nacionalizaci\\u00f3n de las Empresas de la Gran Miner\\u00eda del cobre, del litio y del oro\"],[\"Por Articulaci\\u00f3n por las Aguas, los Derechos de la Naturaleza y los Glaciares.\",\"Por el Agua, los Derechos de la Naturaleza y los Glaciares\"],[\"Por Fundaci\\u00f3n Vegetarianos Hoy\",\"#NoSonMuebles - Incorporaci\\u00f3n de los Animales en la Constituci\\u00f3n\"],[\"Por Coordinadora Nacional de Trabajadoras y Trabajadores NO+AFP\",\"El Derecho a la Seguridad Social\"],[\"Por Luisa Concha C.\",\"\\u0093Pobladoras y pobladores por el derecho a la vivienda digna\\u0094\"],[\"Por Articulaci\\u00f3n de organizaciones educativas por el derecho a la educaci\\u00f3n\",\"POR EL DERECHO A LA EDUCACI\\u00d3N. CONSTRUYENDO UN SISTEMA PLURINACIONAL DE EDUCACI\\u00d3N P\\u00daBLICA ESTATAL-COMUNITARIA \"],[\"Por Alianza por los Derechos Animales\",\"Sujetos, No Objetos \"],[\"Por Jorge Astudillo M.\",\"INHABILIDAD PARA EJERCER CARGOS P\\u00daBLICOS PARA PERSONAS CONDENADAS POR CORRUPCI\\u00d3N\"],[\"Por REDOFEM (Red Docente Feminista)\",\"Una Educaci\\u00f3n Feminista para Chile: Laica, p\\u00fablica y no sexista\"],[\"Por Organizaciones de Hinchas de la U\",\"Derecho a ser Club y ser Hincha \"],[\"Por Central Unitaria  de Trabajadores\",\"Una Constituci\\u00f3n Pol\\u00edtica para las y los trabajadores de Chile\"],[\"Por Cristian Andr\\u00e9s Jara Lizama\",\"Salud mental Gratuita y de Calidad como derecho.\"],[\"Por Daniel Pantoja B.\",\"Nuevas Regiones de Chilo\\u00e9 y Aconcagua\"],[\"Por Cabildo \\\"Salud, un Derecho\\\"\",\"Sistema \\u00danico de Salud, Universal, Plurinacional e Integrado para el nuevo Chile que estamos construyendo democr\\u00e1ticamente\"],[\"Por Andrea Iturry Y.\",\"\\u0093Los primeros mil d\\u00edas: por el derecho a la protecci\\u00f3n de la primera infancia, la maternidad y la co-parentalidad\\u0094\"],[\"Por soy del campo\",\"PROTECCOIN DE LOS ANIMALES. RECONOCIMIENTO DE LA SINTIENCIA Y RESPETO DE LAS CULTURAS RURALES, TRIBAL AFRODECENDIENTES Y PUEBLOS ORIGINARIOS\"],[\"Por Comit\\u00e9 de Ciudadanos por la Dignidad de los Bomberos de Chile\",\"NORMATIVA POR EL RESPETO Y LA DIGNIDAD A LOS BOMBEROS(AS) DE CHILE \"],[\"Por La Libre y Sustentable Rep\\u00fablica de Chile, SacaLaVoz\",\"PROTECCI\\u00d3N DEL MEDIO AMBIENTE, CAMBIO CLIMATICO Y FIN A ZONAS DE SACRIFICIO\"],[\"Por Fundaci\\u00f3n TEAmoMas\",\"Derecho de toda persona autista a recibir terapias. El Estado debe de garantizar su acceso continuo en el sector publico y privado \"],[\"Por ASOCIACION DE CRIADORES DE CABALLOS DE PURA RAZA CHILENA DE \\u00d1UBLE\",\"MAPA DE LAS TRADICIONES DE CHILE \"],[\"Por Nos Importan\",\"Por unas Fuerzas Armadas y de Orden que sean el orgullo de todos chilenos y garanticen la democracia, la seguridad nacional y la defensa de la patria.\"],[\"Por COMPROMISO CON LA NI\\u00d1EZ\",\"DERECHOS DE NI\\u00d1OS, NI\\u00d1AS Y ADOLESCENTES RECONOCIDOS Y CONSAGRADOS EN LA NUEVA CONSTITUCI\\u00d3N POL\\u00cdTICA DE LA REP\\u00daBLICA\"],[\"Por Eduardo Waghorn H.\",\"Consentimiento m\\u00e9dico informado. Aceptar o rechazar un determinado tratamiento m\\u00e9dico o vacunaci\\u00f3n debe ser una opci\\u00f3n libre e individual.\"],[\"Por Zonas de Resistencia Medioambiental\",\"TRANSFORMACI\\u00d3N DE ZONAS DE SACRIFICIO A ZONAS DE RESTAURACI\\u00d3N AMBIENTAL\"],[\"Por Consorcio de Universidades del Estado de Chile\",\"Derecho a la educaci\\u00f3n: p\\u00fablica, gratuita, laica y de calidad\"],[\"Por Compromiso Minero\",\"POR UNA MINER\\u00cdA SUSTENTABLE PARA CHILE: COMPROMETIDA CON SUS HABITANTES, SUS TERRITORIOS, EL MEDIO AMBIENTE Y LOS DESAF\\u00cdOS DEL CAMBIO CLIM\\u00c1TICO\"],[\"Por Mar\\u00eda Covarrubias C.\",\"Mi propuesta para que tu libertad de pensamiento, conciencia y religi\\u00f3n quede bien protegida en la nueva constituci\\u00f3n\"],[\"Por Articulaci\\u00f3n de organizaciones feministas y de disidencias sexo gen\\u00e9ricas\",\"#IniciativaPopularFeminista por una vida libre de violencia para mujeres, ni\\u00f1eces, diversidades y disidencias sexo gen\\u00e9ricas\"],[\"Por Colectivo Nacional por la Discapacidad\",\"Reconocimiento Constitucional para las Personas con Discapacidad\"],[\"Por Confederaci\\u00f3n Fenpruss\",\"Fenpruss y el Derecho a la Salud\"],[\"Por Acci\\u00f3n Colectiva por la Educaci\\u00f3n\",\"Por una educaci\\u00f3n integral, de calidad, inclusiva, equitativa y gratuita\"],[\"Por Sociedad Civil por la Acci\\u00f3n Clim\\u00e1tica (SCAC)\",\"Una Constituci\\u00f3n Ecol\\u00f3gica para enfrentar la crisis clim\\u00e1tica \"],[\"Por Cristian Vivian T.\",\"Es mi plata y punto.\"],[\"Por Sociedad de Fomento Fabril F.G. (SOFOFA)\",\"Emprende Libre\"],[\"Por Daniel Vargas Downing\",\"Iniciativa Popular de Norma por la Libertad de los presos pol\\u00edticos de la rebeli\\u00f3n\"],[\"Por Multigremial Nacional de Emprendedores\",\"Modelo econ\\u00f3mico, libertad de Emprender y fomento de Mipymes \"],[\"Por La Libre y Sustentable Rep\\u00fablica de Chile, SacaLaVoz\",\"REP\\u00daBLICA Y DEFENSA DE NUESTRA BANDERA, TRADICIONES, HIMNO\"],[\"Por SmartSIti\",\"SmartS\\u00edty: Digamos S\\u00ed,  a las ciudades inteligentes en la nueva Constituci\\u00f3n. \"],[\"Por D.U.R.A.S.\",\"Reconocimiento de comunidades y diversas formas de familia\"],[\"Por Asociaci\\u00f3n Internacional para la Libertad Religiosa\",\"POR UNA LIBERTAD DE CONCIENCIA Y RELIGIOSA COMO UN DERECHO HUMANO FUNDAMENTAL EN UNA SOCIEDAD DEMOCRATICA, PLURALISTA Y DIVERSA.\"]],\"hovertemplate\":\"Apoyos=%{text}<br>Nombre=%{y}<br>Autor=%{customdata[0]}<br>Seccion=%{customdata[1]}<extra></extra>\",\"legendgroup\":\"\",\"marker\":{\"color\":\"#636efa\",\"pattern\":{\"shape\":\"\"}},\"name\":\"\",\"offsetgroup\":\"\",\"orientation\":\"h\",\"showlegend\":false,\"text\":[\"44000.0\",\"38000.0\",\"35000.0\",\"29000.0\",\"25000.0\",\"23000.0\",\"23000.0\",\"22000.0\",\"21000.0\",\"21000.0\",\"19000.0\",\"19000.0\",\"18000.0\",\"18000.0\",\"18000.0\",\"17000.0\",\"16000.0\",\"16000.0\",\"16000.0\",\"15000.0\",\"15000.0\",\"15000.0\",\"15000.0\",\"15000.0\",\"15000.0\",\"15000.0\",\"14000.0\",\"13000.0\",\"12000.0\",\"12000.0\",\"12000.0\",\"11000.0\",\"11000.0\",\"11000.0\",\"10000.0\",\"10000.0\",\"9200.0\",\"8900.0\",\"8700.0\",\"8200.0\",\"8100.0\",\"8100.0\",\"7900.0\",\"7300.0\",\"7300.0\",\"7100.0\",\"6700.0\",\"6100.0\",\"5800.0\",\"5700.0\"],\"textposition\":\"outside\",\"texttemplate\":\"%{text:.2s}\",\"type\":\"bar\",\"x\":[44000.0,38000.0,35000.0,29000.0,25000.0,23000.0,23000.0,22000.0,21000.0,21000.0,19000.0,19000.0,18000.0,18000.0,18000.0,17000.0,16000.0,16000.0,16000.0,15000.0,15000.0,15000.0,15000.0,15000.0,15000.0,15000.0,14000.0,13000.0,12000.0,12000.0,12000.0,11000.0,11000.0,11000.0,10000.0,10000.0,9200.0,8900.0,8700.0,8200.0,8100.0,8100.0,7900.0,7300.0,7300.0,7100.0,6700.0,6100.0,5800.0,5700.0],\"xaxis\":\"x\",\"y\":[\"Con mi plata no - defiende tus ahorros previsionales \",\"Cannabis a la constituci\\u00f3n ahora: por el derecho al libre desarrollo de la personalidad, la soberan\\u00eda personal y el bienestar\",\"Libre derecho sobre la propiedad privada \",\"Ser\\u00e1 ley\",\"Banco central aut\\u00f3nomo \",\"Derecho a la vida\",\"Confesiones religiosas quieren contribuir con la cc: proponen texto sobre la libertad religiosa y de conciencia en nueva constituci\\u00f3n\",\"Primero las victimas\",\"Derecho a la educaci\\u00f3n, derecho y deber preferente de los padres, y libertad de ense\\u00f1anza\",\"Iniciativa popular por una educaci\\u00f3n libre y diversa \",\"Nacionalizaci\\u00f3n de las empresas de la gran miner\\u00eda del cobre, del litio y del oro\",\"Por el agua, los derechos de la naturaleza y los glaciares\",\"#nosonmuebles - incorporaci\\u00f3n de los animales en la constituci\\u00f3n\",\"El derecho a la seguridad social\",\"\\u0093pobladoras y pobladores por el derecho a la vivienda digna\\u0094\",\"Por el derecho a la educaci\\u00f3n. construyendo un sistema plurinacional de educaci\\u00f3n p\\u00fablica estatal-comunitaria \",\"Sujetos, no objetos \",\"Inhabilidad para ejercer cargos p\\u00fablicos para personas condenadas por corrupci\\u00f3n\",\"Una educaci\\u00f3n feminista para chile: laica, p\\u00fablica y no sexista\",\"Derecho a ser club y ser hincha \",\"Una constituci\\u00f3n pol\\u00edtica para las y los trabajadores de chile\",\"Salud mental gratuita y de calidad como derecho.\",\"Nuevas regiones de chilo\\u00e9 y aconcagua\",\"Sistema \\u00fanico de salud, universal, plurinacional e integrado para el nuevo chile que estamos construyendo democr\\u00e1ticamente\",\"\\u0093los primeros mil d\\u00edas: por el derecho a la protecci\\u00f3n de la primera infancia, la maternidad y la co-parentalidad\\u0094\",\"Proteccoin de los animales. reconocimiento de la sintiencia y respeto de las culturas rurales, tribal afrodecendientes y pueblos originarios\",\"Normativa por el respeto y la dignidad a los bomberos(as) de chile \",\"Protecci\\u00f3n del medio ambiente, cambio climatico y fin a zonas de sacrificio\",\"Derecho de toda persona autista a recibir terapias. el estado debe de garantizar su acceso continuo en el sector publico y privado \",\"Mapa de las tradiciones de chile \",\"Por unas fuerzas armadas y de orden que sean el orgullo de todos chilenos y garanticen la democracia, la seguridad nacional y la defensa de la patria.\",\"Derechos de ni\\u00f1os, ni\\u00f1as y adolescentes reconocidos y consagrados en la nueva constituci\\u00f3n pol\\u00edtica de la rep\\u00fablica\",\"Consentimiento m\\u00e9dico informado. aceptar o rechazar un determinado tratamiento m\\u00e9dico o vacunaci\\u00f3n debe ser una opci\\u00f3n libre e individual.\",\"Transformaci\\u00f3n de zonas de sacrificio a zonas de restauraci\\u00f3n ambiental\",\"Derecho a la educaci\\u00f3n: p\\u00fablica, gratuita, laica y de calidad\",\"Por una miner\\u00eda sustentable para chile: comprometida con sus habitantes, sus territorios, el medio ambiente y los desaf\\u00edos del cambio clim\\u00e1tico\",\"Mi propuesta para que tu libertad de pensamiento, conciencia y religi\\u00f3n quede bien protegida en la nueva constituci\\u00f3n\",\"#iniciativapopularfeminista por una vida libre de violencia para mujeres, ni\\u00f1eces, diversidades y disidencias sexo gen\\u00e9ricas\",\"Reconocimiento constitucional para las personas con discapacidad\",\"Fenpruss y el derecho a la salud\",\"Por una educaci\\u00f3n integral, de calidad, inclusiva, equitativa y gratuita\",\"Una constituci\\u00f3n ecol\\u00f3gica para enfrentar la crisis clim\\u00e1tica \",\"Es mi plata y punto.\",\"Emprende libre\",\"Iniciativa popular de norma por la libertad de los presos pol\\u00edticos de la rebeli\\u00f3n\",\"Modelo econ\\u00f3mico, libertad de emprender y fomento de mipymes \",\"Rep\\u00fablica y defensa de nuestra bandera, tradiciones, himno\",\"Smarts\\u00edty: digamos s\\u00ed,  a las ciudades inteligentes en la nueva constituci\\u00f3n. \",\"Reconocimiento de comunidades y diversas formas de familia\",\"Por una libertad de conciencia y religiosa como un derecho humano fundamental en una sociedad democratica, pluralista y diversa.\"],\"yaxis\":\"y\"}],                        {\"barmode\":\"relative\",\"font\":{\"color\":\"RebeccaPurple\",\"family\":\"Times New Roman\",\"size\":12},\"height\":1000,\"legend\":{\"tracegroupgap\":0},\"shapes\":[{\"line\":{\"color\":\"red\",\"dash\":\"dash\",\"width\":1},\"type\":\"rect\",\"x0\":15000,\"x1\":15000,\"xref\":\"x\",\"y0\":0,\"y1\":1,\"yref\":\"y domain\"}],\"template\":{\"data\":{\"bar\":[{\"error_x\":{\"color\":\"#2a3f5f\"},\"error_y\":{\"color\":\"#2a3f5f\"},\"marker\":{\"line\":{\"color\":\"#E5ECF6\",\"width\":0.5},\"pattern\":{\"fillmode\":\"overlay\",\"size\":10,\"solidity\":0.2}},\"type\":\"bar\"}],\"barpolar\":[{\"marker\":{\"line\":{\"color\":\"#E5ECF6\",\"width\":0.5},\"pattern\":{\"fillmode\":\"overlay\",\"size\":10,\"solidity\":0.2}},\"type\":\"barpolar\"}],\"carpet\":[{\"aaxis\":{\"endlinecolor\":\"#2a3f5f\",\"gridcolor\":\"white\",\"linecolor\":\"white\",\"minorgridcolor\":\"white\",\"startlinecolor\":\"#2a3f5f\"},\"baxis\":{\"endlinecolor\":\"#2a3f5f\",\"gridcolor\":\"white\",\"linecolor\":\"white\",\"minorgridcolor\":\"white\",\"startlinecolor\":\"#2a3f5f\"},\"type\":\"carpet\"}],\"choropleth\":[{\"colorbar\":{\"outlinewidth\":0,\"ticks\":\"\"},\"type\":\"choropleth\"}],\"contour\":[{\"colorbar\":{\"outlinewidth\":0,\"ticks\":\"\"},\"colorscale\":[[0.0,\"#0d0887\"],[0.1111111111111111,\"#46039f\"],[0.2222222222222222,\"#7201a8\"],[0.3333333333333333,\"#9c179e\"],[0.4444444444444444,\"#bd3786\"],[0.5555555555555556,\"#d8576b\"],[0.6666666666666666,\"#ed7953\"],[0.7777777777777778,\"#fb9f3a\"],[0.8888888888888888,\"#fdca26\"],[1.0,\"#f0f921\"]],\"type\":\"contour\"}],\"contourcarpet\":[{\"colorbar\":{\"outlinewidth\":0,\"ticks\":\"\"},\"type\":\"contourcarpet\"}],\"heatmap\":[{\"colorbar\":{\"outlinewidth\":0,\"ticks\":\"\"},\"colorscale\":[[0.0,\"#0d0887\"],[0.1111111111111111,\"#46039f\"],[0.2222222222222222,\"#7201a8\"],[0.3333333333333333,\"#9c179e\"],[0.4444444444444444,\"#bd3786\"],[0.5555555555555556,\"#d8576b\"],[0.6666666666666666,\"#ed7953\"],[0.7777777777777778,\"#fb9f3a\"],[0.8888888888888888,\"#fdca26\"],[1.0,\"#f0f921\"]],\"type\":\"heatmap\"}],\"heatmapgl\":[{\"colorbar\":{\"outlinewidth\":0,\"ticks\":\"\"},\"colorscale\":[[0.0,\"#0d0887\"],[0.1111111111111111,\"#46039f\"],[0.2222222222222222,\"#7201a8\"],[0.3333333333333333,\"#9c179e\"],[0.4444444444444444,\"#bd3786\"],[0.5555555555555556,\"#d8576b\"],[0.6666666666666666,\"#ed7953\"],[0.7777777777777778,\"#fb9f3a\"],[0.8888888888888888,\"#fdca26\"],[1.0,\"#f0f921\"]],\"type\":\"heatmapgl\"}],\"histogram\":[{\"marker\":{\"pattern\":{\"fillmode\":\"overlay\",\"size\":10,\"solidity\":0.2}},\"type\":\"histogram\"}],\"histogram2d\":[{\"colorbar\":{\"outlinewidth\":0,\"ticks\":\"\"},\"colorscale\":[[0.0,\"#0d0887\"],[0.1111111111111111,\"#46039f\"],[0.2222222222222222,\"#7201a8\"],[0.3333333333333333,\"#9c179e\"],[0.4444444444444444,\"#bd3786\"],[0.5555555555555556,\"#d8576b\"],[0.6666666666666666,\"#ed7953\"],[0.7777777777777778,\"#fb9f3a\"],[0.8888888888888888,\"#fdca26\"],[1.0,\"#f0f921\"]],\"type\":\"histogram2d\"}],\"histogram2dcontour\":[{\"colorbar\":{\"outlinewidth\":0,\"ticks\":\"\"},\"colorscale\":[[0.0,\"#0d0887\"],[0.1111111111111111,\"#46039f\"],[0.2222222222222222,\"#7201a8\"],[0.3333333333333333,\"#9c179e\"],[0.4444444444444444,\"#bd3786\"],[0.5555555555555556,\"#d8576b\"],[0.6666666666666666,\"#ed7953\"],[0.7777777777777778,\"#fb9f3a\"],[0.8888888888888888,\"#fdca26\"],[1.0,\"#f0f921\"]],\"type\":\"histogram2dcontour\"}],\"mesh3d\":[{\"colorbar\":{\"outlinewidth\":0,\"ticks\":\"\"},\"type\":\"mesh3d\"}],\"parcoords\":[{\"line\":{\"colorbar\":{\"outlinewidth\":0,\"ticks\":\"\"}},\"type\":\"parcoords\"}],\"pie\":[{\"automargin\":true,\"type\":\"pie\"}],\"scatter\":[{\"marker\":{\"colorbar\":{\"outlinewidth\":0,\"ticks\":\"\"}},\"type\":\"scatter\"}],\"scatter3d\":[{\"line\":{\"colorbar\":{\"outlinewidth\":0,\"ticks\":\"\"}},\"marker\":{\"colorbar\":{\"outlinewidth\":0,\"ticks\":\"\"}},\"type\":\"scatter3d\"}],\"scattercarpet\":[{\"marker\":{\"colorbar\":{\"outlinewidth\":0,\"ticks\":\"\"}},\"type\":\"scattercarpet\"}],\"scattergeo\":[{\"marker\":{\"colorbar\":{\"outlinewidth\":0,\"ticks\":\"\"}},\"type\":\"scattergeo\"}],\"scattergl\":[{\"marker\":{\"colorbar\":{\"outlinewidth\":0,\"ticks\":\"\"}},\"type\":\"scattergl\"}],\"scattermapbox\":[{\"marker\":{\"colorbar\":{\"outlinewidth\":0,\"ticks\":\"\"}},\"type\":\"scattermapbox\"}],\"scatterpolar\":[{\"marker\":{\"colorbar\":{\"outlinewidth\":0,\"ticks\":\"\"}},\"type\":\"scatterpolar\"}],\"scatterpolargl\":[{\"marker\":{\"colorbar\":{\"outlinewidth\":0,\"ticks\":\"\"}},\"type\":\"scatterpolargl\"}],\"scatterternary\":[{\"marker\":{\"colorbar\":{\"outlinewidth\":0,\"ticks\":\"\"}},\"type\":\"scatterternary\"}],\"surface\":[{\"colorbar\":{\"outlinewidth\":0,\"ticks\":\"\"},\"colorscale\":[[0.0,\"#0d0887\"],[0.1111111111111111,\"#46039f\"],[0.2222222222222222,\"#7201a8\"],[0.3333333333333333,\"#9c179e\"],[0.4444444444444444,\"#bd3786\"],[0.5555555555555556,\"#d8576b\"],[0.6666666666666666,\"#ed7953\"],[0.7777777777777778,\"#fb9f3a\"],[0.8888888888888888,\"#fdca26\"],[1.0,\"#f0f921\"]],\"type\":\"surface\"}],\"table\":[{\"cells\":{\"fill\":{\"color\":\"#EBF0F8\"},\"line\":{\"color\":\"white\"}},\"header\":{\"fill\":{\"color\":\"#C8D4E3\"},\"line\":{\"color\":\"white\"}},\"type\":\"table\"}]},\"layout\":{\"annotationdefaults\":{\"arrowcolor\":\"#2a3f5f\",\"arrowhead\":0,\"arrowwidth\":1},\"autotypenumbers\":\"strict\",\"coloraxis\":{\"colorbar\":{\"outlinewidth\":0,\"ticks\":\"\"}},\"colorscale\":{\"diverging\":[[0,\"#8e0152\"],[0.1,\"#c51b7d\"],[0.2,\"#de77ae\"],[0.3,\"#f1b6da\"],[0.4,\"#fde0ef\"],[0.5,\"#f7f7f7\"],[0.6,\"#e6f5d0\"],[0.7,\"#b8e186\"],[0.8,\"#7fbc41\"],[0.9,\"#4d9221\"],[1,\"#276419\"]],\"sequential\":[[0.0,\"#0d0887\"],[0.1111111111111111,\"#46039f\"],[0.2222222222222222,\"#7201a8\"],[0.3333333333333333,\"#9c179e\"],[0.4444444444444444,\"#bd3786\"],[0.5555555555555556,\"#d8576b\"],[0.6666666666666666,\"#ed7953\"],[0.7777777777777778,\"#fb9f3a\"],[0.8888888888888888,\"#fdca26\"],[1.0,\"#f0f921\"]],\"sequentialminus\":[[0.0,\"#0d0887\"],[0.1111111111111111,\"#46039f\"],[0.2222222222222222,\"#7201a8\"],[0.3333333333333333,\"#9c179e\"],[0.4444444444444444,\"#bd3786\"],[0.5555555555555556,\"#d8576b\"],[0.6666666666666666,\"#ed7953\"],[0.7777777777777778,\"#fb9f3a\"],[0.8888888888888888,\"#fdca26\"],[1.0,\"#f0f921\"]]},\"colorway\":[\"#636efa\",\"#EF553B\",\"#00cc96\",\"#ab63fa\",\"#FFA15A\",\"#19d3f3\",\"#FF6692\",\"#B6E880\",\"#FF97FF\",\"#FECB52\"],\"font\":{\"color\":\"#2a3f5f\"},\"geo\":{\"bgcolor\":\"white\",\"lakecolor\":\"white\",\"landcolor\":\"#E5ECF6\",\"showlakes\":true,\"showland\":true,\"subunitcolor\":\"white\"},\"hoverlabel\":{\"align\":\"left\"},\"hovermode\":\"closest\",\"mapbox\":{\"style\":\"light\"},\"paper_bgcolor\":\"white\",\"plot_bgcolor\":\"#E5ECF6\",\"polar\":{\"angularaxis\":{\"gridcolor\":\"white\",\"linecolor\":\"white\",\"ticks\":\"\"},\"bgcolor\":\"#E5ECF6\",\"radialaxis\":{\"gridcolor\":\"white\",\"linecolor\":\"white\",\"ticks\":\"\"}},\"scene\":{\"xaxis\":{\"backgroundcolor\":\"#E5ECF6\",\"gridcolor\":\"white\",\"gridwidth\":2,\"linecolor\":\"white\",\"showbackground\":true,\"ticks\":\"\",\"zerolinecolor\":\"white\"},\"yaxis\":{\"backgroundcolor\":\"#E5ECF6\",\"gridcolor\":\"white\",\"gridwidth\":2,\"linecolor\":\"white\",\"showbackground\":true,\"ticks\":\"\",\"zerolinecolor\":\"white\"},\"zaxis\":{\"backgroundcolor\":\"#E5ECF6\",\"gridcolor\":\"white\",\"gridwidth\":2,\"linecolor\":\"white\",\"showbackground\":true,\"ticks\":\"\",\"zerolinecolor\":\"white\"}},\"shapedefaults\":{\"line\":{\"color\":\"#2a3f5f\"}},\"ternary\":{\"aaxis\":{\"gridcolor\":\"white\",\"linecolor\":\"white\",\"ticks\":\"\"},\"baxis\":{\"gridcolor\":\"white\",\"linecolor\":\"white\",\"ticks\":\"\"},\"bgcolor\":\"#E5ECF6\",\"caxis\":{\"gridcolor\":\"white\",\"linecolor\":\"white\",\"ticks\":\"\"}},\"title\":{\"x\":0.05},\"xaxis\":{\"automargin\":true,\"gridcolor\":\"white\",\"linecolor\":\"white\",\"ticks\":\"\",\"title\":{\"standoff\":15},\"zerolinecolor\":\"white\",\"zerolinewidth\":2},\"yaxis\":{\"automargin\":true,\"gridcolor\":\"white\",\"linecolor\":\"white\",\"ticks\":\"\",\"title\":{\"standoff\":15},\"zerolinecolor\":\"white\",\"zerolinewidth\":2}}},\"title\":{\"font\":{\"color\":\"grey\",\"family\":\"Times New Roman\"},\"text\":\"APOYOS A INICIATIVAS POPULARES\"},\"width\":1200,\"xaxis\":{\"anchor\":\"y\",\"domain\":[0.0,1.0],\"title\":{\"text\":\"APOYOS (Miles)\"}},\"yaxis\":{\"anchor\":\"x\",\"autorange\":\"reversed\",\"domain\":[0.0,1.0],\"title\":{\"text\":\"INICIATIVAS\"}}},                        {\"responsive\": true}                    ).then(function(){\n",
       "                            \n",
       "var gd = document.getElementById('f505bb8e-2148-4348-9380-51ac8a068d65');\n",
       "var x = new MutationObserver(function (mutations, observer) {{\n",
       "        var display = window.getComputedStyle(gd).display;\n",
       "        if (!display || display === 'none') {{\n",
       "            console.log([gd, 'removed!']);\n",
       "            Plotly.purge(gd);\n",
       "            observer.disconnect();\n",
       "        }}\n",
       "}});\n",
       "\n",
       "// Listen for the removal of the full notebook cells\n",
       "var notebookContainer = gd.closest('#notebook-container');\n",
       "if (notebookContainer) {{\n",
       "    x.observe(notebookContainer, {childList: true});\n",
       "}}\n",
       "\n",
       "// Listen for the clearing of the current output cell\n",
       "var outputEl = gd.closest('.output');\n",
       "if (outputEl) {{\n",
       "    x.observe(outputEl, {childList: true});\n",
       "}}\n",
       "\n",
       "                        })                };                });            </script>        </div>"
      ]
     },
     "metadata": {},
     "output_type": "display_data"
    }
   ],
   "source": [
    "import plotly.express as px\n",
    "\n",
    "fig = px.bar(df_slice, \n",
    "             x=\"Apoyos\",\n",
    "             y=\"Nombre\",\n",
    "             text=\"Apoyos\",\n",
    "             title=\"APOYOS A INICIATIVAS POPULARES\",\n",
    "             hover_data=[\"Autor\",\n",
    "                         \"Seccion\"],\n",
    "             orientation='h',\n",
    "             width=1200,\n",
    "             height=1000)\n",
    "\n",
    "fig.update_yaxes(autorange='reversed')\n",
    "\n",
    "fig.update_traces(texttemplate='%{text:.2s}', \n",
    "                  textposition='outside')\n",
    "\n",
    "fig.update_layout(\n",
    "    font_family=\"Times New Roman\",\n",
    "    font_size=12,\n",
    "    font_color=\"RebeccaPurple\",\n",
    "    xaxis_title=\"APOYOS (Miles)\",\n",
    "    yaxis_title=\"INICIATIVAS\",\n",
    "    title_font_family=\"Times New Roman\",\n",
    "    title_font_color=\"grey\"\n",
    ")\n",
    "\n",
    "\n",
    "\n",
    "\n",
    "fig.add_vrect(x0=15000, \n",
    "              x1=15000,\n",
    "              line_width=1,\n",
    "              line_dash=\"dash\",\n",
    "              line_color=\"red\")\n",
    "\n",
    "# fig.update_xaxes(title_font_family=\"Arial\")\n",
    "\n",
    "fig.show()\n",
    "\n",
    "fig.write_html(\"/home/navarro/Documents/iniciativas_populares/grafico_iniciativa_popular.html\")"
   ]
  }
 ],
 "metadata": {
  "colab": {
   "collapsed_sections": [],
   "name": "scrapping_iniciativa_popular.ipynb",
   "provenance": []
  },
  "kernelspec": {
   "display_name": "Python 3 (ipykernel)",
   "language": "python",
   "name": "python3"
  },
  "language_info": {
   "codemirror_mode": {
    "name": "ipython",
    "version": 3
   },
   "file_extension": ".py",
   "mimetype": "text/x-python",
   "name": "python",
   "nbconvert_exporter": "python",
   "pygments_lexer": "ipython3",
   "version": "3.9.7"
  }
 },
 "nbformat": 4,
 "nbformat_minor": 4
}
